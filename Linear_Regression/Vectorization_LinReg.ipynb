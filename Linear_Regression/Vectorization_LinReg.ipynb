{
 "cells": [
  {
   "cell_type": "code",
   "execution_count": 62,
   "metadata": {},
   "outputs": [],
   "source": [
    "import numpy as np"
   ]
  },
  {
   "cell_type": "code",
   "execution_count": 63,
   "metadata": {},
   "outputs": [],
   "source": [
    "x = np.linspace(1 , 5000 , 5000)"
   ]
  },
  {
   "cell_type": "code",
   "execution_count": 64,
   "metadata": {},
   "outputs": [],
   "source": [
    "Y = -12.5*x + 1.24"
   ]
  },
  {
   "cell_type": "code",
   "execution_count": 65,
   "metadata": {},
   "outputs": [],
   "source": [
    "from sklearn.preprocessing import MinMaxScaler"
   ]
  },
  {
   "cell_type": "code",
   "execution_count": 66,
   "metadata": {},
   "outputs": [],
   "source": [
    "x_ =  MinMaxScaler()\n",
    "x_norm = x_.fit_transform(x.reshape(-1, 1))"
   ]
  },
  {
   "cell_type": "code",
   "execution_count": 75,
   "metadata": {},
   "outputs": [],
   "source": [
    "y_ = MinMaxScaler()\n",
    "y_norm = y_.fit_transform(Y.reshape(-1, 1))"
   ]
  },
  {
   "cell_type": "code",
   "execution_count": null,
   "metadata": {},
   "outputs": [],
   "source": []
  },
  {
   "cell_type": "code",
   "execution_count": 117,
   "metadata": {},
   "outputs": [
    {
     "name": "stdout",
     "output_type": "stream",
     "text": [
      "Loss:  0.136951227272 Err:  -0.0485543446795\n",
      "Loss:  0.0676686751941 Err:  0.044359603679\n",
      "Loss:  0.0350181242684 Err:  0.0320246373222\n",
      "Loss:  0.0181216678792 Err:  0.0230377432778\n",
      "Loss:  0.00937785371386 Err:  0.0165726738708\n",
      "Loss:  0.00485298267604 Err:  0.011921893219\n",
      "Loss:  0.00251138923388 Err:  0.00857625866716\n",
      "Loss:  0.00129962876546 Err:  0.00616950775977\n",
      "Loss:  0.000672550039328 Err:  0.00443816207918\n",
      "Loss:  0.000348040584681 Err:  0.0031926830159\n",
      "Loss:  0.0001801089012 Err:  0.00229672207958\n"
     ]
    }
   ],
   "source": [
    "rate = 0.05\n",
    "w = np.random.random(1)\n",
    "b = np.random.random(1)[0]\n",
    "for s in range(1100):\n",
    "    z = w*x_norm + b\n",
    "    err = y_norm - z\n",
    "    loss = 0.5*np.sum(err*err)/len(x)\n",
    "    dw = np.dot(err.T, x_norm)/len(x)\n",
    "    db = np.sum(err)/len(x)\n",
    "    \n",
    "    w = w + rate*dw\n",
    "    b = b + rate*db\n",
    "    if s % 100 == 0:\n",
    "        print(\"Loss: \" , loss , \"Err: \", np.sum(err)/len(x))"
   ]
  },
  {
   "cell_type": "code",
   "execution_count": 118,
   "metadata": {},
   "outputs": [
    {
     "data": {
      "text/plain": [
       "array([[-0.95306081]])"
      ]
     },
     "execution_count": 118,
     "metadata": {},
     "output_type": "execute_result"
    }
   ],
   "source": [
    "w"
   ]
  },
  {
   "cell_type": "code",
   "execution_count": 119,
   "metadata": {},
   "outputs": [
    {
     "data": {
      "text/plain": [
       "0.9748782083800368"
      ]
     },
     "execution_count": 119,
     "metadata": {},
     "output_type": "execute_result"
    }
   ],
   "source": [
    "b"
   ]
  },
  {
   "cell_type": "code",
   "execution_count": 120,
   "metadata": {},
   "outputs": [
    {
     "data": {
      "text/plain": [
       "array([[-52140.93366592]])"
      ]
     },
     "execution_count": 120,
     "metadata": {},
     "output_type": "execute_result"
    }
   ],
   "source": [
    "y_.inverse_transform(w*x_norm[4244] + b)"
   ]
  },
  {
   "cell_type": "code",
   "execution_count": 121,
   "metadata": {},
   "outputs": [
    {
     "data": {
      "text/plain": [
       "-53061.260000000002"
      ]
     },
     "execution_count": 121,
     "metadata": {},
     "output_type": "execute_result"
    }
   ],
   "source": [
    "Y[4244]"
   ]
  },
  {
   "cell_type": "code",
   "execution_count": null,
   "metadata": {},
   "outputs": [],
   "source": []
  }
 ],
 "metadata": {
  "kernelspec": {
   "display_name": "Python 3",
   "language": "python",
   "name": "python3"
  },
  "language_info": {
   "codemirror_mode": {
    "name": "ipython",
    "version": 3
   },
   "file_extension": ".py",
   "mimetype": "text/x-python",
   "name": "python",
   "nbconvert_exporter": "python",
   "pygments_lexer": "ipython3",
   "version": "3.6.1"
  }
 },
 "nbformat": 4,
 "nbformat_minor": 1
}
