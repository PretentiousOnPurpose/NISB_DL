{
 "cells": [
  {
   "cell_type": "code",
   "execution_count": 61,
   "metadata": {},
   "outputs": [],
   "source": [
    "import mxnet as mx\n",
    "from mxnet import nd , autograd ,gluon"
   ]
  },
  {
   "cell_type": "code",
   "execution_count": 62,
   "metadata": {},
   "outputs": [],
   "source": [
    "X = nd.random_normal(0 , 1, shape=(100000, 5), ctx = mx.gpu())\n",
    "Y = 2*X[:, 0] - 3.5*X[: , 1] + 2.5*X[:, 4] + 2.5*X[: , 3] + 2.5*X[: , 2] + 4.5 + .25 * nd.random_normal(shape=(100000,), ctx=mx.gpu())"
   ]
  },
  {
   "cell_type": "code",
   "execution_count": 63,
   "metadata": {},
   "outputs": [],
   "source": [
    "W = nd.random_normal(0 , 1 ,shape=(5 , 1 ) , ctx = mx.gpu())\n",
    "b = nd.random_normal(0 , 1, shape=(1, 1) , ctx=mx.gpu())"
   ]
  },
  {
   "cell_type": "code",
   "execution_count": 64,
   "metadata": {},
   "outputs": [],
   "source": [
    "params = [W , b]"
   ]
  },
  {
   "cell_type": "code",
   "execution_count": 65,
   "metadata": {},
   "outputs": [],
   "source": [
    "for param in params:\n",
    "    param.attach_grad()"
   ]
  },
  {
   "cell_type": "code",
   "execution_count": 66,
   "metadata": {},
   "outputs": [],
   "source": [
    "def net(X):\n",
    "    return nd.dot(X, W) + b"
   ]
  },
  {
   "cell_type": "code",
   "execution_count": 67,
   "metadata": {},
   "outputs": [],
   "source": [
    "def train(epochs , lr , batch_size):\n",
    "    for e in range(epochs):\n",
    "        total_loss = 0\n",
    "        data = gluon.data.dataloader.DataLoader(dataset= mx.gluon.data.ArrayDataset(X, Y) , batch_size=batch_size)\n",
    "        for i , (tr , lb) in enumerate(data):\n",
    "            tr = tr.as_in_context(mx.gpu())\n",
    "            lb = lb.as_in_context(mx.gpu()).reshape((-1, 1))\n",
    "            with autograd.record():\n",
    "                y_ = net(tr)\n",
    "                loss = nd.mean((y_ - lb)**2)\n",
    "            total_loss += loss.asscalar()\n",
    "            loss.backward()\n",
    "            for param in params:\n",
    "                param[:] -= lr*param.grad\n",
    "        print(\"epoch: {}, loss: {}\".format(e, total_loss/(100000/batch_size)))"
   ]
  },
  {
   "cell_type": "code",
   "execution_count": 68,
   "metadata": {},
   "outputs": [
    {
     "name": "stdout",
     "output_type": "stream",
     "text": [
      "epoch: 0, loss: 34.898112001419065\n",
      "epoch: 1, loss: 8.943573088645934\n",
      "epoch: 2, loss: 2.3282416892051696\n",
      "epoch: 3, loss: 0.6412088455259799\n",
      "epoch: 4, loss: 0.21073529340326785\n",
      "epoch: 5, loss: 0.1008199869096279\n",
      "epoch: 6, loss: 0.07273166321218014\n",
      "epoch: 7, loss: 0.0655454877577722\n",
      "epoch: 8, loss: 0.06370358191430568\n",
      "epoch: 9, loss: 0.06323007099330424\n",
      "epoch: 10, loss: 0.06310767274349928\n",
      "epoch: 11, loss: 0.06307570304721594\n",
      "epoch: 12, loss: 0.06306719223037362\n",
      "epoch: 13, loss: 0.06306484987959265\n",
      "epoch: 14, loss: 0.06306416764855384\n",
      "epoch: 15, loss: 0.06306394821032882\n",
      "epoch: 16, loss: 0.06306387344375253\n",
      "epoch: 17, loss: 0.0630638413131237\n",
      "epoch: 18, loss: 0.06306382622569799\n",
      "epoch: 19, loss: 0.06306381952017545\n",
      "epoch: 20, loss: 0.06306381717324257\n",
      "epoch: 21, loss: 0.06306381527334451\n",
      "epoch: 22, loss: 0.06306381627917289\n",
      "epoch: 23, loss: 0.06306381521746515\n",
      "epoch: 24, loss: 0.0630638157762587\n"
     ]
    }
   ],
   "source": [
    "train(25 ,0.005 , 1500)"
   ]
  },
  {
   "cell_type": "code",
   "execution_count": 69,
   "metadata": {},
   "outputs": [
    {
     "data": {
      "text/plain": [
       "\n",
       "[[ 2.00074482]\n",
       " [-3.50046134]\n",
       " [ 2.50037026]\n",
       " [ 2.49932837]\n",
       " [ 2.49922585]]\n",
       "<NDArray 5x1 @gpu(0)>"
      ]
     },
     "execution_count": 69,
     "metadata": {},
     "output_type": "execute_result"
    }
   ],
   "source": [
    "W"
   ]
  },
  {
   "cell_type": "code",
   "execution_count": 70,
   "metadata": {},
   "outputs": [
    {
     "data": {
      "text/plain": [
       "\n",
       "[[ 4.50294065]]\n",
       "<NDArray 1x1 @gpu(0)>"
      ]
     },
     "execution_count": 70,
     "metadata": {},
     "output_type": "execute_result"
    }
   ],
   "source": [
    "b"
   ]
  },
  {
   "cell_type": "code",
   "execution_count": null,
   "metadata": {},
   "outputs": [],
   "source": []
  }
 ],
 "metadata": {
  "kernelspec": {
   "display_name": "Python 3",
   "language": "python",
   "name": "python3"
  },
  "language_info": {
   "codemirror_mode": {
    "name": "ipython",
    "version": 3
   },
   "file_extension": ".py",
   "mimetype": "text/x-python",
   "name": "python",
   "nbconvert_exporter": "python",
   "pygments_lexer": "ipython3",
   "version": "3.5.2"
  }
 },
 "nbformat": 4,
 "nbformat_minor": 2
}
