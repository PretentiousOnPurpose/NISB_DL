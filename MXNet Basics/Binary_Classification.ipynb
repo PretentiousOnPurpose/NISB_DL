{
 "cells": [
  {
   "cell_type": "code",
   "execution_count": 42,
   "metadata": {},
   "outputs": [],
   "source": [
    "import mxnet as mx\n",
    "from mxnet import nd , gluon , autograd\n",
    "import matplotlib.pyplot as plt\n",
    "%matplotlib inline"
   ]
  },
  {
   "cell_type": "code",
   "execution_count": 123,
   "metadata": {},
   "outputs": [],
   "source": [
    "def sigmoid(X):\n",
    "    return 1/(1 + nd.exp(-0.1*X))"
   ]
  },
  {
   "cell_type": "code",
   "execution_count": 159,
   "metadata": {},
   "outputs": [],
   "source": [
    "x = nd.arange(-100, 100, 0.005, ctx = mx.cpu())\n",
    "x_val = nd.arange(-2, 2, 0.025, ctx = mx.cpu())"
   ]
  },
  {
   "cell_type": "code",
   "execution_count": 160,
   "metadata": {},
   "outputs": [],
   "source": [
    "y = sigmoid(x).asnumpy()\n",
    "Y = [1 if p > 0.5 else 0 for p in y]\n",
    "y_val = sigmoid(x_val)\n",
    "Y_val = [1 if p > 0.5 else 0 for p in y_val]"
   ]
  },
  {
   "cell_type": "code",
   "execution_count": 161,
   "metadata": {},
   "outputs": [
    {
     "data": {
      "text/plain": [
       "[<matplotlib.lines.Line2D at 0x7f5ea90eea90>]"
      ]
     },
     "execution_count": 161,
     "metadata": {},
     "output_type": "execute_result"
    },
    {
     "data": {
      "image/png": "[encoded data removed]",
      "text/plain": [
       "<matplotlib.figure.Figure at 0x7f5ea91384a8>"
      ]
     },
     "metadata": {},
     "output_type": "display_data"
    }
   ],
   "source": [
    "plt.plot(x.asnumpy(), y , \"*\")"
   ]
  },
  {
   "cell_type": "code",
   "execution_count": 162,
   "metadata": {},
   "outputs": [],
   "source": [
    "def Loss(y_, y):\n",
    "    return nd.mean(-(y*nd.log(y_) + (1 - y)*nd.log(1 - y_)))"
   ]
  },
  {
   "cell_type": "code",
   "execution_count": 163,
   "metadata": {},
   "outputs": [],
   "source": [
    "from sklearn.preprocessing import StandardScaler\n",
    "scalerX = StandardScaler()\n",
    "scalerX.fit(x.asnumpy().reshape(-1, 1))\n",
    "X = nd.array(scalerX.transform(x.asnumpy().reshape(-1, 1)))\n",
    "X_val = nd.array(scalerX.transform(x_val.asnumpy().reshape(-1, 1)))"
   ]
  },
  {
   "cell_type": "code",
   "execution_count": 164,
   "metadata": {},
   "outputs": [],
   "source": [
    "batch_size = 250\n",
    "data = gluon.data.DataLoader(dataset= gluon.data.ArrayDataset(X, Y),  batch_size= batch_size)"
   ]
  },
  {
   "cell_type": "code",
   "execution_count": 166,
   "metadata": {},
   "outputs": [],
   "source": [
    "def train(epochs , lr , X, Y):\n",
    "    W = nd.random.normal(0 , 1, shape=(1 ,) ,ctx = mx.cpu())\n",
    "    W.attach_grad()\n",
    "    for e in range(epochs):\n",
    "        total_loss = 0\n",
    "        X = nd.array(X).as_in_context(mx.cpu())\n",
    "        Y = nd.array(Y).as_in_context(mx.cpu())\n",
    "        with autograd.record():\n",
    "            y_ = sigmoid(nd.dot(X , W))\n",
    "            loss = Loss(y_, Y)\n",
    "        loss.backward()\n",
    "        total_loss += loss.asscalar()\n",
    "        W -= lr*W.grad\n",
    "        if e % 1000 == 0:\n",
    "            print(\"epoch: {} , loss: {}\".format(e , total_loss/(40000/250)))\n",
    "    return W"
   ]
  },
  {
   "cell_type": "code",
   "execution_count": 167,
   "metadata": {},
   "outputs": [
    {
     "name": "stdout",
     "output_type": "stream",
     "text": [
      "epoch: 0 , loss: 0.00405142679810524\n",
      "epoch: 1000 , loss: 0.001625850610435009\n",
      "epoch: 2000 , loss: 0.0012064754962921142\n",
      "epoch: 3000 , loss: 0.0010200860910117627\n",
      "epoch: 4000 , loss: 0.0009093708358705044\n",
      "epoch: 5000 , loss: 0.0008338029496371746\n",
      "epoch: 6000 , loss: 0.0007778559811413288\n"
     ]
    }
   ],
   "source": [
    "W = train(6300 , 0.75 , X, Y)"
   ]
  },
  {
   "cell_type": "code",
   "execution_count": 168,
   "metadata": {},
   "outputs": [
    {
     "data": {
      "text/plain": [
       "\n",
       "[ 38.8047905]\n",
       "<NDArray 1 @cpu(0)>"
      ]
     },
     "execution_count": 168,
     "metadata": {},
     "output_type": "execute_result"
    }
   ],
   "source": [
    "W"
   ]
  },
  {
   "cell_type": "code",
   "execution_count": 169,
   "metadata": {},
   "outputs": [],
   "source": [
    "def test(X, Y ,W):\n",
    "    X = nd.array(X).as_in_context(mx.cpu())\n",
    "    Y = nd.array(Y).as_in_context(mx.cpu())\n",
    "    y_ = nd.sigmoid(nd.dot(X , W))\n",
    "    y_ = nd.array([1 if p > 0.5 else 0 for p in y_])\n",
    "    err = nd.sum(nd.abs((y_ - Y)))/len(Y)\n",
    "    print(\"Accuracy: \", (1 - err))\n",
    "    return list(y_.asnumpy().astype(int))"
   ]
  },
  {
   "cell_type": "code",
   "execution_count": 170,
   "metadata": {},
   "outputs": [
    {
     "name": "stdout",
     "output_type": "stream",
     "text": [
      "Accuracy:  \n",
      "[ 0.99374998]\n",
      "<NDArray 1 @cpu(0)>\n"
     ]
    }
   ],
   "source": [
    "y_ = test(X_val , Y_val , W)"
   ]
  },
  {
   "cell_type": "code",
   "execution_count": null,
   "metadata": {},
   "outputs": [],
   "source": []
  },
  {
   "cell_type": "code",
   "execution_count": null,
   "metadata": {},
   "outputs": [],
   "source": []
  },
  {
   "cell_type": "code",
   "execution_count": null,
   "metadata": {},
   "outputs": [],
   "source": []
  }
 ],
 "metadata": {
  "kernelspec": {
   "display_name": "Python 3",
   "language": "python",
   "name": "python3"
  },
  "language_info": {
   "codemirror_mode": {
    "name": "ipython",
    "version": 3
   },
   "file_extension": ".py",
   "mimetype": "text/x-python",
   "name": "python",
   "nbconvert_exporter": "python",
   "pygments_lexer": "ipython3",
   "version": "3.5.2"
  }
 },
 "nbformat": 4,
 "nbformat_minor": 2
}
