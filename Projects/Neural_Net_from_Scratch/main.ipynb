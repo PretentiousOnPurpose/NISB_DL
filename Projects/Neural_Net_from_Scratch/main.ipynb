{
 "cells": [
  {
   "cell_type": "code",
   "execution_count": 37,
   "metadata": {},
   "outputs": [],
   "source": [
    "import numpy as np\n",
    "import matplotlib.pyplot as plt\n",
    "from PIL import Image\n",
    "import h5py"
   ]
  },
  {
   "cell_type": "code",
   "execution_count": 45,
   "metadata": {},
   "outputs": [],
   "source": [
    "def sigmoid(x):\n",
    "    return 1/(1 + np.exp(-x))"
   ]
  },
  {
   "cell_type": "code",
   "execution_count": 46,
   "metadata": {},
   "outputs": [],
   "source": [
    "def relu(x):\n",
    "    return np.maximum(x, 0)"
   ]
  },
  {
   "cell_type": "code",
   "execution_count": 47,
   "metadata": {},
   "outputs": [],
   "source": [
    "def reluGrad(x):\n",
    "    x[x > 0] = 1\n",
    "    x[x <= 0] = 0\n",
    "    \n",
    "    return x"
   ]
  },
  {
   "cell_type": "code",
   "execution_count": 120,
   "metadata": {},
   "outputs": [],
   "source": [
    "W1 = np.random.randn(512, 12288)\n",
    "\n",
    "W2 = np.random.randn(256, 512)\n",
    "W3 = np.random.randn(128, 256)\n",
    "    \n",
    "W4 = np.random.randn(64, 128)\n",
    "    \n",
    "W5 = np.random.randn(16, 64)\n",
    "\n",
    "W6 = np.random.randn(1, 16)\n",
    "\n",
    "W = [W1, W2, W3, W4, W5, W6]"
   ]
  },
  {
   "cell_type": "code",
   "execution_count": 125,
   "metadata": {},
   "outputs": [],
   "source": [
    "def train(epochs = 100, lr = 0.01):\n",
    "    global W1, W2, W3, W4, W5, W6\n",
    "    for e in range(epochs):\n",
    "        Z1 = np.dot(imgs, W1.T)\n",
    "        Z1 = Z1 / 10\n",
    "        A1 = relu(Z1)\n",
    "    \n",
    "        Z2 = np.dot(A1, W2.T)\n",
    "        Z2 = Z2 / 10\n",
    "        A2 = relu(Z2)\n",
    "        \n",
    "        Z3 = np.dot(A2, W3.T)\n",
    "        Z3 = Z3 / 10       \n",
    "        A3 = relu(Z3)\n",
    "\n",
    "        Z4 = np.dot(A3, W4.T)\n",
    "        Z4 = Z4 / 10\n",
    "        A4 = relu(Z4)\n",
    "        \n",
    "        Z5 = np.dot(A4, W5.T)\n",
    "        Z5 = Z5 / 10\n",
    "        A5 = relu(Z5)\n",
    "        \n",
    "        Z6 = np.dot(A5, W6.T)\n",
    "        A6 = sigmoid(Z6)\n",
    "        \n",
    "        err = (labels - A6)\n",
    "        A6 = np.array([i if i != 0 else 0.000001 for i in A6]).reshape(209, 1)\n",
    "        \n",
    "        loss = - np.mean((labels * (np.log(A6))) + ((1 - labels) * (1 - np.log(A6))))\n",
    "\n",
    "        dW6 =  np.dot(-err.T, A5)\n",
    "        dW5 =  np.mean(dW6 * W6) * np.dot(reluGrad(A5).T, A4)\n",
    " \n",
    "        dW4 =  np.mean(dW5 * W5) * np.dot(reluGrad(A4).T, A3)\n",
    "\n",
    "        dW3 =  np.mean(dW4 * W4) * np.dot(reluGrad(A3).T, A2)\n",
    "        \n",
    "        dW2 =  np.mean(dW3 * W3) * np.dot(reluGrad(A2).T, A1)\n",
    "    \n",
    "        dW1 =  np.mean(dW2 * W2) * np.dot(reluGrad(A1).T, imgs)\n",
    "        \n",
    "        \n",
    "        W6 = W6 - (lr * dW6)\n",
    "        \n",
    "        W5 = W5 - (lr * dW5)\n",
    "        \n",
    "        W4 = W4 - (lr * dW4)\n",
    "        \n",
    "        W3 = W3 - (lr * dW3)\n",
    "    \n",
    "        W2 = W2 - (lr * dW2)\n",
    "    \n",
    "        W1 = W1 - (lr * dW1)\n",
    "        \n",
    "        if e % 10 == 0:\n",
    "            print(\"Epoch {}, Loss {}\".format(e, loss))\n",
    "            \n",
    "    return [W1, W2, W3, W4, W5, W6]"
   ]
  },
  {
   "cell_type": "code",
   "execution_count": 124,
   "metadata": {},
   "outputs": [
    {
     "name": "stdout",
     "output_type": "stream",
     "text": [
      "Epoch 0, Loss -0.6555023923444976\n"
     ]
    },
    {
     "name": "stderr",
     "output_type": "stream",
     "text": [
      "/home/chawat/.local/lib/python3.5/site-packages/ipykernel_launcher.py:32: RuntimeWarning: invalid value encountered in true_divide\n",
      "/usr/local/lib/python3.5/dist-packages/numpy/core/_methods.py:26: RuntimeWarning: invalid value encountered in reduce\n",
      "  return umr_maximum(a, axis, None, out, keepdims)\n",
      "/home/chawat/.local/lib/python3.5/site-packages/ipykernel_launcher.py:2: RuntimeWarning: invalid value encountered in greater\n",
      "  \n",
      "/home/chawat/.local/lib/python3.5/site-packages/ipykernel_launcher.py:3: RuntimeWarning: invalid value encountered in less_equal\n",
      "  This is separate from the ipykernel package so we can avoid doing imports until\n"
     ]
    },
    {
     "name": "stdout",
     "output_type": "stream",
     "text": [
      "Epoch 10, Loss nan\n"
     ]
    },
    {
     "ename": "KeyboardInterrupt",
     "evalue": "",
     "output_type": "error",
     "traceback": [
      "\u001b[0;31m---------------------------------------------------------------------------\u001b[0m",
      "\u001b[0;31mKeyboardInterrupt\u001b[0m                         Traceback (most recent call last)",
      "\u001b[0;32m<ipython-input-124-d896a59a3309>\u001b[0m in \u001b[0;36m<module>\u001b[0;34m()\u001b[0m\n\u001b[0;32m----> 1\u001b[0;31m \u001b[0mW\u001b[0m \u001b[0;34m=\u001b[0m \u001b[0mtrain\u001b[0m\u001b[0;34m(\u001b[0m\u001b[0;36m10000\u001b[0m\u001b[0;34m,\u001b[0m \u001b[0;36m0.5\u001b[0m\u001b[0;34m)\u001b[0m\u001b[0;34m\u001b[0m\u001b[0m\n\u001b[0m",
      "\u001b[0;32m<ipython-input-123-7342de2a792d>\u001b[0m in \u001b[0;36mtrain\u001b[0;34m(epochs, lr)\u001b[0m\n\u001b[1;32m     53\u001b[0m         \u001b[0mW2\u001b[0m \u001b[0;34m=\u001b[0m \u001b[0mW2\u001b[0m \u001b[0;34m-\u001b[0m \u001b[0;34m(\u001b[0m\u001b[0mlr\u001b[0m \u001b[0;34m*\u001b[0m \u001b[0mdW2\u001b[0m\u001b[0;34m)\u001b[0m\u001b[0;34m\u001b[0m\u001b[0m\n\u001b[1;32m     54\u001b[0m \u001b[0;34m\u001b[0m\u001b[0m\n\u001b[0;32m---> 55\u001b[0;31m         \u001b[0mW1\u001b[0m \u001b[0;34m=\u001b[0m \u001b[0mW1\u001b[0m \u001b[0;34m-\u001b[0m \u001b[0;34m(\u001b[0m\u001b[0mlr\u001b[0m \u001b[0;34m*\u001b[0m \u001b[0mdW1\u001b[0m\u001b[0;34m)\u001b[0m\u001b[0;34m\u001b[0m\u001b[0m\n\u001b[0m\u001b[1;32m     56\u001b[0m \u001b[0;34m\u001b[0m\u001b[0m\n\u001b[1;32m     57\u001b[0m         \u001b[0;32mif\u001b[0m \u001b[0me\u001b[0m \u001b[0;34m%\u001b[0m \u001b[0;36m10\u001b[0m \u001b[0;34m==\u001b[0m \u001b[0;36m0\u001b[0m\u001b[0;34m:\u001b[0m\u001b[0;34m\u001b[0m\u001b[0m\n",
      "\u001b[0;31mKeyboardInterrupt\u001b[0m: "
     ]
    }
   ],
   "source": [
    "W = train(10000, 0.5)"
   ]
  },
  {
   "cell_type": "code",
   "execution_count": null,
   "metadata": {},
   "outputs": [],
   "source": []
  }
 ],
 "metadata": {
  "kernelspec": {
   "display_name": "Python 3",
   "language": "python",
   "name": "python3"
  },
  "language_info": {
   "codemirror_mode": {
    "name": "ipython",
    "version": 3
   },
   "file_extension": ".py",
   "mimetype": "text/x-python",
   "name": "python",
   "nbconvert_exporter": "python",
   "pygments_lexer": "ipython3",
   "version": "3.5.2"
  }
 },
 "nbformat": 4,
 "nbformat_minor": 2
}
