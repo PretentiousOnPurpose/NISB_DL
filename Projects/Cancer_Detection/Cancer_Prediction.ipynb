{
 "cells": [
  {
   "cell_type": "code",
   "execution_count": 6,
   "metadata": {},
   "outputs": [],
   "source": [
    "import numpy as np\n",
    "import pandas as pd"
   ]
  },
  {
   "cell_type": "code",
   "execution_count": 7,
   "metadata": {},
   "outputs": [],
   "source": [
    "ds = pd.read_csv('data1.csv')"
   ]
  },
  {
   "cell_type": "code",
   "execution_count": 8,
   "metadata": {},
   "outputs": [
    {
     "data": {
      "text/html": [
       "<div>\n",
       "<style>\n",
       "    .dataframe thead tr:only-child th {\n",
       "        text-align: right;\n",
       "    }\n",
       "\n",
       "    .dataframe thead th {\n",
       "        text-align: left;\n",
       "    }\n",
       "\n",
       "    .dataframe tbody tr th {\n",
       "        vertical-align: top;\n",
       "    }\n",
       "</style>\n",
       "<table border=\"1\" class=\"dataframe\">\n",
       "  <thead>\n",
       "    <tr style=\"text-align: right;\">\n",
       "      <th></th>\n",
       "      <th>Unnamed: 0</th>\n",
       "      <th>radius_worst</th>\n",
       "      <th>texture_worst</th>\n",
       "      <th>perimeter_worst</th>\n",
       "      <th>area_worst</th>\n",
       "      <th>texture_se</th>\n",
       "      <th>perimeter_se</th>\n",
       "      <th>area_se</th>\n",
       "      <th>radius_mean</th>\n",
       "      <th>texture_mean</th>\n",
       "      <th>...</th>\n",
       "      <th>concave points_se</th>\n",
       "      <th>symmetry_se</th>\n",
       "      <th>fractal_dimension_se</th>\n",
       "      <th>smoothness_worst</th>\n",
       "      <th>compactness_worst</th>\n",
       "      <th>concavity_worst</th>\n",
       "      <th>concave points_worst</th>\n",
       "      <th>symmetry_worst</th>\n",
       "      <th>fractal_dimension_worst</th>\n",
       "      <th>diagnosis</th>\n",
       "    </tr>\n",
       "  </thead>\n",
       "  <tbody>\n",
       "    <tr>\n",
       "      <th>0</th>\n",
       "      <td>0</td>\n",
       "      <td>25.38</td>\n",
       "      <td>17.33</td>\n",
       "      <td>184.60</td>\n",
       "      <td>2019.0</td>\n",
       "      <td>0.9053</td>\n",
       "      <td>8.589</td>\n",
       "      <td>153.40</td>\n",
       "      <td>17.99</td>\n",
       "      <td>10.38</td>\n",
       "      <td>...</td>\n",
       "      <td>0.01587</td>\n",
       "      <td>0.03003</td>\n",
       "      <td>0.006193</td>\n",
       "      <td>0.1622</td>\n",
       "      <td>0.6656</td>\n",
       "      <td>0.7119</td>\n",
       "      <td>0.2654</td>\n",
       "      <td>0.4601</td>\n",
       "      <td>0.11890</td>\n",
       "      <td>M</td>\n",
       "    </tr>\n",
       "    <tr>\n",
       "      <th>1</th>\n",
       "      <td>1</td>\n",
       "      <td>24.99</td>\n",
       "      <td>23.41</td>\n",
       "      <td>158.80</td>\n",
       "      <td>1956.0</td>\n",
       "      <td>0.7339</td>\n",
       "      <td>3.398</td>\n",
       "      <td>74.08</td>\n",
       "      <td>20.57</td>\n",
       "      <td>17.77</td>\n",
       "      <td>...</td>\n",
       "      <td>0.01340</td>\n",
       "      <td>0.01389</td>\n",
       "      <td>0.003532</td>\n",
       "      <td>0.1238</td>\n",
       "      <td>0.1866</td>\n",
       "      <td>0.2416</td>\n",
       "      <td>0.1860</td>\n",
       "      <td>0.2750</td>\n",
       "      <td>0.08902</td>\n",
       "      <td>M</td>\n",
       "    </tr>\n",
       "    <tr>\n",
       "      <th>2</th>\n",
       "      <td>2</td>\n",
       "      <td>23.57</td>\n",
       "      <td>25.53</td>\n",
       "      <td>152.50</td>\n",
       "      <td>1709.0</td>\n",
       "      <td>0.7869</td>\n",
       "      <td>4.585</td>\n",
       "      <td>94.03</td>\n",
       "      <td>19.69</td>\n",
       "      <td>21.25</td>\n",
       "      <td>...</td>\n",
       "      <td>0.02058</td>\n",
       "      <td>0.02250</td>\n",
       "      <td>0.004571</td>\n",
       "      <td>0.1444</td>\n",
       "      <td>0.4245</td>\n",
       "      <td>0.4504</td>\n",
       "      <td>0.2430</td>\n",
       "      <td>0.3613</td>\n",
       "      <td>0.08758</td>\n",
       "      <td>M</td>\n",
       "    </tr>\n",
       "    <tr>\n",
       "      <th>3</th>\n",
       "      <td>3</td>\n",
       "      <td>14.91</td>\n",
       "      <td>26.50</td>\n",
       "      <td>98.87</td>\n",
       "      <td>567.7</td>\n",
       "      <td>1.1560</td>\n",
       "      <td>3.445</td>\n",
       "      <td>27.23</td>\n",
       "      <td>11.42</td>\n",
       "      <td>20.38</td>\n",
       "      <td>...</td>\n",
       "      <td>0.01867</td>\n",
       "      <td>0.05963</td>\n",
       "      <td>0.009208</td>\n",
       "      <td>0.2098</td>\n",
       "      <td>0.8663</td>\n",
       "      <td>0.6869</td>\n",
       "      <td>0.2575</td>\n",
       "      <td>0.6638</td>\n",
       "      <td>0.17300</td>\n",
       "      <td>M</td>\n",
       "    </tr>\n",
       "    <tr>\n",
       "      <th>4</th>\n",
       "      <td>4</td>\n",
       "      <td>22.54</td>\n",
       "      <td>16.67</td>\n",
       "      <td>152.20</td>\n",
       "      <td>1575.0</td>\n",
       "      <td>0.7813</td>\n",
       "      <td>5.438</td>\n",
       "      <td>94.44</td>\n",
       "      <td>20.29</td>\n",
       "      <td>14.34</td>\n",
       "      <td>...</td>\n",
       "      <td>0.01885</td>\n",
       "      <td>0.01756</td>\n",
       "      <td>0.005115</td>\n",
       "      <td>0.1374</td>\n",
       "      <td>0.2050</td>\n",
       "      <td>0.4000</td>\n",
       "      <td>0.1625</td>\n",
       "      <td>0.2364</td>\n",
       "      <td>0.07678</td>\n",
       "      <td>M</td>\n",
       "    </tr>\n",
       "  </tbody>\n",
       "</table>\n",
       "<p>5 rows × 32 columns</p>\n",
       "</div>"
      ],
      "text/plain": [
       "   Unnamed: 0  radius_worst  texture_worst  perimeter_worst  area_worst  \\\n",
       "0           0         25.38          17.33           184.60      2019.0   \n",
       "1           1         24.99          23.41           158.80      1956.0   \n",
       "2           2         23.57          25.53           152.50      1709.0   \n",
       "3           3         14.91          26.50            98.87       567.7   \n",
       "4           4         22.54          16.67           152.20      1575.0   \n",
       "\n",
       "   texture_se  perimeter_se  area_se  radius_mean  texture_mean    ...      \\\n",
       "0      0.9053         8.589   153.40        17.99         10.38    ...       \n",
       "1      0.7339         3.398    74.08        20.57         17.77    ...       \n",
       "2      0.7869         4.585    94.03        19.69         21.25    ...       \n",
       "3      1.1560         3.445    27.23        11.42         20.38    ...       \n",
       "4      0.7813         5.438    94.44        20.29         14.34    ...       \n",
       "\n",
       "   concave points_se  symmetry_se  fractal_dimension_se  smoothness_worst  \\\n",
       "0            0.01587      0.03003              0.006193            0.1622   \n",
       "1            0.01340      0.01389              0.003532            0.1238   \n",
       "2            0.02058      0.02250              0.004571            0.1444   \n",
       "3            0.01867      0.05963              0.009208            0.2098   \n",
       "4            0.01885      0.01756              0.005115            0.1374   \n",
       "\n",
       "   compactness_worst  concavity_worst  concave points_worst  symmetry_worst  \\\n",
       "0             0.6656           0.7119                0.2654          0.4601   \n",
       "1             0.1866           0.2416                0.1860          0.2750   \n",
       "2             0.4245           0.4504                0.2430          0.3613   \n",
       "3             0.8663           0.6869                0.2575          0.6638   \n",
       "4             0.2050           0.4000                0.1625          0.2364   \n",
       "\n",
       "   fractal_dimension_worst  diagnosis  \n",
       "0                  0.11890          M  \n",
       "1                  0.08902          M  \n",
       "2                  0.08758          M  \n",
       "3                  0.17300          M  \n",
       "4                  0.07678          M  \n",
       "\n",
       "[5 rows x 32 columns]"
      ]
     },
     "execution_count": 8,
     "metadata": {},
     "output_type": "execute_result"
    }
   ],
   "source": [
    "ds.head()"
   ]
  },
  {
   "cell_type": "code",
   "execution_count": 9,
   "metadata": {},
   "outputs": [],
   "source": [
    "X = ds.iloc[:, 1:-1].values\n",
    "y_temp = ds.iloc[:, -1].values"
   ]
  },
  {
   "cell_type": "code",
   "execution_count": 10,
   "metadata": {},
   "outputs": [],
   "source": [
    "Y = []\n",
    "for i in y_temp:\n",
    "    if i == \"M\":\n",
    "        Y.append(1)\n",
    "    elif i == \"B\":\n",
    "        Y.append(0)\n",
    "\n",
    "Y = np.array(Y).reshape(-1, 1)"
   ]
  },
  {
   "cell_type": "code",
   "execution_count": 11,
   "metadata": {},
   "outputs": [],
   "source": [
    "from sklearn.model_selection import train_test_split\n",
    "X_train, X_test, Y_train, Y_test = train_test_split(X, Y, test_size = 0.05, random_state = 101)"
   ]
  },
  {
   "cell_type": "code",
   "execution_count": 12,
   "metadata": {},
   "outputs": [],
   "source": [
    "from sklearn.preprocessing import MinMaxScaler\n",
    "ScalerX = MinMaxScaler()"
   ]
  },
  {
   "cell_type": "code",
   "execution_count": 13,
   "metadata": {},
   "outputs": [
    {
     "data": {
      "text/plain": [
       "MinMaxScaler(copy=True, feature_range=(0, 1))"
      ]
     },
     "execution_count": 13,
     "metadata": {},
     "output_type": "execute_result"
    }
   ],
   "source": [
    "ScalerX.fit(X)"
   ]
  },
  {
   "cell_type": "code",
   "execution_count": 14,
   "metadata": {},
   "outputs": [],
   "source": [
    "X_data = ScalerX.transform(X)"
   ]
  },
  {
   "cell_type": "code",
   "execution_count": 15,
   "metadata": {},
   "outputs": [],
   "source": [
    "X_train = ScalerX.transform(X_train)\n",
    "X_test = ScalerX.transform(X_test)"
   ]
  },
  {
   "cell_type": "code",
   "execution_count": 16,
   "metadata": {},
   "outputs": [
    {
     "data": {
      "text/plain": [
       "0.0"
      ]
     },
     "execution_count": 16,
     "metadata": {},
     "output_type": "execute_result"
    }
   ],
   "source": [
    "np.min(X_train)"
   ]
  },
  {
   "cell_type": "code",
   "execution_count": 30,
   "metadata": {},
   "outputs": [],
   "source": [
    "def train(X, Y, lr = 0.05, epochs = 100):\n",
    "    W = np.random.normal(0, 1, 30).reshape((30, 1))\n",
    "    b = np.random.normal(0, 1, 1).reshape((1, 1))\n",
    "    \n",
    "    for e in range(epochs):\n",
    "\n",
    "        Z = np.dot(X, W) + b\n",
    "        y_ = 1/(1 + np.exp(-Z)) \n",
    "        loss = np.mean(-(Y * np.log(y_) + (1 - Y) * np.log(1 - y_)))\n",
    "        err = (Y - y_)\n",
    "               \n",
    "        for i in range(len(W)):\n",
    "            W[i] = W[i] - (lr * np.mean(X[:, i].reshape(-1, 1) * -err))\n",
    "        \n",
    "        b = b - (lr * np.mean(-err))\n",
    "        if e % 200 == 0:\n",
    "            print(\"epoch \", e, \"loss: \", loss)\n",
    "            \n",
    "    return W, b"
   ]
  },
  {
   "cell_type": "code",
   "execution_count": 31,
   "metadata": {},
   "outputs": [
    {
     "name": "stdout",
     "output_type": "stream",
     "text": [
      "epoch  0 loss:  0.9856896705740814\n",
      "epoch  200 loss:  0.21322575320184478\n",
      "epoch  400 loss:  0.16698328026411668\n",
      "epoch  600 loss:  0.14615598211014583\n",
      "epoch  800 loss:  0.13337911622963408\n",
      "epoch  1000 loss:  0.12443369305458947\n",
      "epoch  1200 loss:  0.1176967496133421\n",
      "epoch  1400 loss:  0.11238071515413418\n",
      "epoch  1600 loss:  0.10804606427417303\n",
      "epoch  1800 loss:  0.1044237639733795\n",
      "epoch  2000 loss:  0.10133803451624379\n",
      "epoch  2200 loss:  0.09866830875877355\n",
      "epoch  2400 loss:  0.09632871027905679\n",
      "epoch  2600 loss:  0.09425618922837677\n",
      "epoch  2800 loss:  0.09240328199129995\n",
      "epoch  3000 loss:  0.09073349644900795\n",
      "epoch  3200 loss:  0.08921826383759582\n",
      "epoch  3400 loss:  0.08783486420626818\n",
      "epoch  3600 loss:  0.08656497796449242\n",
      "epoch  3800 loss:  0.08539365193204784\n",
      "epoch  4000 loss:  0.08430854680057832\n",
      "epoch  4200 loss:  0.08329937990232036\n",
      "epoch  4400 loss:  0.08235750619448938\n",
      "epoch  4600 loss:  0.08147559877416868\n",
      "epoch  4800 loss:  0.08064740219840871\n",
      "epoch  5000 loss:  0.079867539822525\n",
      "epoch  5200 loss:  0.07913136174017123\n",
      "epoch  5400 loss:  0.07843482360550677\n",
      "epoch  5600 loss:  0.07777438920267411\n",
      "epoch  5800 loss:  0.0771469514614468\n",
      "epoch  6000 loss:  0.07654976793597436\n",
      "epoch  6200 loss:  0.07598040772265773\n",
      "epoch  6400 loss:  0.07543670749906171\n",
      "epoch  6600 loss:  0.07491673489078121\n",
      "epoch  6800 loss:  0.07441875776753806\n",
      "epoch  7000 loss:  0.07394121836875085\n",
      "epoch  7200 loss:  0.07348271138743807\n",
      "epoch  7400 loss:  0.07304196531757019\n"
     ]
    }
   ],
   "source": [
    "W, b = train(X_train, Y_train, 0.5, 7500)"
   ]
  },
  {
   "cell_type": "code",
   "execution_count": 32,
   "metadata": {},
   "outputs": [],
   "source": [
    "def test(X, Y, W, b):\n",
    "\n",
    "    Z = np.dot(X, W) + b\n",
    "    y_ = 1/(1 + np.exp(-Z))\n",
    "    y_ = [1 if i >= 0.5 else 0 for i in y_]\n",
    "    err = (Y - y_)\n",
    "    print(\"Err: \", np.sum(err)/len(Y))"
   ]
  },
  {
   "cell_type": "code",
   "execution_count": 33,
   "metadata": {},
   "outputs": [
    {
     "name": "stdout",
     "output_type": "stream",
     "text": [
      "Err:  0.0\n"
     ]
    }
   ],
   "source": [
    "test(X_test, Y_test, W, b)"
   ]
  },
  {
   "cell_type": "code",
   "execution_count": 34,
   "metadata": {},
   "outputs": [
    {
     "data": {
      "text/plain": [
       "array([[ 4.53444751],\n",
       "       [ 4.34150106],\n",
       "       [ 3.38912225],\n",
       "       [ 5.05712258],\n",
       "       [-0.28282935],\n",
       "       [ 4.38877168],\n",
       "       [ 3.00182544],\n",
       "       [ 1.03287917],\n",
       "       [ 4.19252647],\n",
       "       [ 1.09103063],\n",
       "       [ 2.15207649],\n",
       "       [ 0.77149798],\n",
       "       [-0.30543975],\n",
       "       [ 2.83337639],\n",
       "       [ 6.87263531],\n",
       "       [-0.57660372],\n",
       "       [-4.42822848],\n",
       "       [ 5.85569242],\n",
       "       [ 0.19094618],\n",
       "       [-3.2496827 ],\n",
       "       [-0.15808796],\n",
       "       [-0.06396562],\n",
       "       [-2.16620842],\n",
       "       [-1.48415201],\n",
       "       [ 3.41957455],\n",
       "       [ 1.34182423],\n",
       "       [ 2.84430722],\n",
       "       [ 4.98425065],\n",
       "       [ 4.81978465],\n",
       "       [-0.80603802]])"
      ]
     },
     "execution_count": 34,
     "metadata": {},
     "output_type": "execute_result"
    }
   ],
   "source": [
    "W"
   ]
  },
  {
   "cell_type": "code",
   "execution_count": 35,
   "metadata": {},
   "outputs": [
    {
     "data": {
      "text/plain": [
       "array([[-14.42584882]])"
      ]
     },
     "execution_count": 35,
     "metadata": {},
     "output_type": "execute_result"
    }
   ],
   "source": [
    "b"
   ]
  },
  {
   "cell_type": "code",
   "execution_count": 36,
   "metadata": {},
   "outputs": [],
   "source": [
    "y_pred = np.dot(X_data, W) + b"
   ]
  },
  {
   "cell_type": "code",
   "execution_count": 37,
   "metadata": {},
   "outputs": [],
   "source": [
    "Z_pred = 1/(1 + np.exp(-y_pred))"
   ]
  },
  {
   "cell_type": "code",
   "execution_count": 38,
   "metadata": {},
   "outputs": [],
   "source": [
    "Z_pred = np.array([1 if i >= 0.5 else 0 for i in Z_pred]).reshape(-1, 1)"
   ]
  },
  {
   "cell_type": "code",
   "execution_count": 39,
   "metadata": {},
   "outputs": [
    {
     "name": "stdout",
     "output_type": "stream",
     "text": [
      "Accuracy:  0.9859402460456942\n"
     ]
    }
   ],
   "source": [
    "print(\"Accuracy: \", 1 - np.mean(np.abs(Z_pred - Y)))"
   ]
  },
  {
   "cell_type": "code",
   "execution_count": null,
   "metadata": {},
   "outputs": [],
   "source": []
  }
 ],
 "metadata": {
  "kernelspec": {
   "display_name": "Python 3",
   "language": "python",
   "name": "python3"
  },
  "language_info": {
   "codemirror_mode": {
    "name": "ipython",
    "version": 3
   },
   "file_extension": ".py",
   "mimetype": "text/x-python",
   "name": "python",
   "nbconvert_exporter": "python",
   "pygments_lexer": "ipython3",
   "version": "3.5.2"
  }
 },
 "nbformat": 4,
 "nbformat_minor": 2
}
