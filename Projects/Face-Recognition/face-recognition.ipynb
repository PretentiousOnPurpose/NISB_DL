{
 "cells": [
  {
   "cell_type": "code",
   "execution_count": 1,
   "metadata": {},
   "outputs": [],
   "source": [
    "import tensorflow as tf\n",
    "import numpy as np\n",
    "import matplotlib.pyplot as plt\n",
    "%matplotlib inline"
   ]
  },
  {
   "cell_type": "code",
   "execution_count": 2,
   "metadata": {},
   "outputs": [],
   "source": [
    "X = tf.placeholder(dtype=tf.float32, shape = ((None, 100, 100, 3)))\n",
    "Y = tf.placeholder(dtype=tf.float32, shape = (None, 1))"
   ]
  },
  {
   "cell_type": "code",
   "execution_count": 3,
   "metadata": {},
   "outputs": [],
   "source": [
    "Z1 = tf.nn.conv2d(input = X, filter = tf.Variable(initial_value=tf.random_normal(shape = [3, 3, 3, 32])), strides=[1, 2, 2, 1], padding=\"SAME\")\n",
    "A1 = tf.nn.relu(Z1)\n",
    "\n",
    "Z2 = tf.nn.conv2d(input= A1, filter = tf.Variable(initial_value=tf.random_normal(shape = [3, 3, 32, 64])), strides=[1, 2, 2, 1], padding=\"VALID\")\n",
    "A2 = tf.nn.relu(Z2)\n",
    "\n",
    "Z3 = tf.nn.conv2d(input= A2, filter = tf.Variable(initial_value=tf.random_normal(shape = [3, 3, 64, 128])), strides=[1, 2, 2, 1], padding=\"SAME\")\n",
    "A3 = tf.nn.relu(Z3)\n",
    "\n",
    "Z4 = tf.nn.conv2d(input= A3, filter = tf.Variable(initial_value=tf.random_normal(shape = [3, 3, 128, 256])), strides=[1, 2, 2, 1], padding=\"VALID\")\n",
    "A4 = tf.nn.relu(Z4)\n",
    "\n",
    "Z5 = tf.nn.conv2d(input= A4, filter = tf.Variable(initial_value=tf.random_normal(shape = [3, 3, 256, 512])), strides=[1, 2, 2, 1], padding=\"SAME\")\n",
    "A5 = tf.nn.relu(Z5)\n",
    "\n",
    "Z6 = tf.nn.conv2d(input= A5, filter = tf.Variable(initial_value=tf.random_normal(shape = [3, 3, 512, 1024])), strides=[1, 2, 2, 1], padding=\"VALID\")\n",
    "A6 = tf.nn.relu(Z6)"
   ]
  },
  {
   "cell_type": "code",
   "execution_count": 4,
   "metadata": {},
   "outputs": [],
   "source": [
    "F = tf.contrib.layers.flatten(inputs= A6)"
   ]
  },
  {
   "cell_type": "code",
   "execution_count": 5,
   "metadata": {},
   "outputs": [],
   "source": [
    "Z7 = tf.matmul(F, tf.Variable(initial_value= tf.random_normal(shape = [1024, 512]))) + tf.Variable(initial_value= tf.random_normal(shape = [1, 512]))\n",
    "A7 = tf.nn.relu(Z7)\n",
    "\n",
    "Z8 = tf.matmul(A7, tf.Variable(initial_value= tf.random_normal(shape = [512, 256]))) + tf.Variable(initial_value= tf.random_normal(shape = [1, 256]))\n",
    "A8 = tf.nn.relu(Z8)\n",
    "\n",
    "Z9 = tf.matmul(A8, tf.Variable(initial_value= tf.random_normal(shape = [256, 128]))) + tf.Variable(initial_value= tf.random_normal(shape = [1, 128]))\n",
    "A9 = tf.nn.relu(Z9)"
   ]
  },
  {
   "cell_type": "code",
   "execution_count": 6,
   "metadata": {},
   "outputs": [],
   "source": [
    "def loss(Y, A9):\n",
    "    return tf.maximum(tf.reduce_mean(tf.squared_difference(A9[0], A9[1]) - tf.constant(value = 0.7)), 0)"
   ]
  },
  {
   "cell_type": "code",
   "execution_count": 7,
   "metadata": {},
   "outputs": [],
   "source": [
    "LOSS = loss(Y, A9)"
   ]
  },
  {
   "cell_type": "code",
   "execution_count": 8,
   "metadata": {},
   "outputs": [],
   "source": [
    "opt = tf.train.AdamOptimizer(learning_rate= 0.01)\n",
    "train_ = opt.minimize(LOSS)"
   ]
  },
  {
   "cell_type": "code",
   "execution_count": null,
   "metadata": {},
   "outputs": [],
   "source": []
  }
 ],
 "metadata": {
  "kernelspec": {
   "display_name": "Python 3",
   "language": "python",
   "name": "python3"
  },
  "language_info": {
   "codemirror_mode": {
    "name": "ipython",
    "version": 3
   },
   "file_extension": ".py",
   "mimetype": "text/x-python",
   "name": "python",
   "nbconvert_exporter": "python",
   "pygments_lexer": "ipython3",
   "version": "3.5.2"
  }
 },
 "nbformat": 4,
 "nbformat_minor": 2
}
