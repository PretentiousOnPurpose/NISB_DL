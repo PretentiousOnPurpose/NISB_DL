{
 "cells": [
  {
   "cell_type": "code",
   "execution_count": 75,
   "metadata": {},
   "outputs": [],
   "source": [
    "import numpy as np\n",
    "import glob\n",
    "import copy"
   ]
  },
  {
   "cell_type": "code",
   "execution_count": 76,
   "metadata": {},
   "outputs": [],
   "source": [
    "imgs = sorted(glob.glob(\"*/*.pgm\"))"
   ]
  },
  {
   "cell_type": "code",
   "execution_count": 77,
   "metadata": {},
   "outputs": [
    {
     "data": {
      "text/plain": [
       "['s1/1.pgm',\n",
       " 's1/10.pgm',\n",
       " 's1/2.pgm',\n",
       " 's1/3.pgm',\n",
       " 's1/4.pgm',\n",
       " 's1/5.pgm',\n",
       " 's1/6.pgm',\n",
       " 's1/7.pgm',\n",
       " 's1/8.pgm',\n",
       " 's1/9.pgm',\n",
       " 's2/1.pgm',\n",
       " 's2/10.pgm',\n",
       " 's2/2.pgm',\n",
       " 's2/3.pgm',\n",
       " 's2/4.pgm',\n",
       " 's2/5.pgm',\n",
       " 's2/6.pgm',\n",
       " 's2/7.pgm',\n",
       " 's2/8.pgm',\n",
       " 's2/9.pgm',\n",
       " 's3/1.pgm',\n",
       " 's3/10.pgm',\n",
       " 's3/2.pgm',\n",
       " 's3/3.pgm',\n",
       " 's3/4.pgm',\n",
       " 's3/5.pgm',\n",
       " 's3/6.pgm',\n",
       " 's3/7.pgm',\n",
       " 's3/8.pgm',\n",
       " 's3/9.pgm']"
      ]
     },
     "execution_count": 77,
     "metadata": {},
     "output_type": "execute_result"
    }
   ],
   "source": [
    "imgs"
   ]
  },
  {
   "cell_type": "code",
   "execution_count": 80,
   "metadata": {},
   "outputs": [],
   "source": [
    "x = []"
   ]
  },
  {
   "cell_type": "code",
   "execution_count": 87,
   "metadata": {},
   "outputs": [],
   "source": [
    "for e in range(1, 11):\n",
    "    for h in range(1, 11):\n",
    "            x.append(['s1/{}.pgm'.format(e), 's2/{}.pgm'.format(h)])"
   ]
  },
  {
   "cell_type": "code",
   "execution_count": 89,
   "metadata": {},
   "outputs": [
    {
     "data": {
      "text/plain": [
       "400"
      ]
     },
     "execution_count": 89,
     "metadata": {},
     "output_type": "execute_result"
    }
   ],
   "source": [
    "len(x)"
   ]
  },
  {
   "cell_type": "code",
   "execution_count": 90,
   "metadata": {},
   "outputs": [],
   "source": [
    "np.save(\"imgs\", x)"
   ]
  },
  {
   "cell_type": "code",
   "execution_count": 91,
   "metadata": {},
   "outputs": [],
   "source": [
    "y = []"
   ]
  },
  {
   "cell_type": "code",
   "execution_count": 92,
   "metadata": {},
   "outputs": [],
   "source": [
    "for i in x:\n",
    "    if i[0][:2] == i[1][:2]:\n",
    "        y.append(1)\n",
    "    else:\n",
    "        y.append(0)"
   ]
  },
  {
   "cell_type": "code",
   "execution_count": 95,
   "metadata": {},
   "outputs": [],
   "source": [
    "np.save(\"Y\", np.array(y).reshape(400, 1))"
   ]
  },
  {
   "cell_type": "code",
   "execution_count": 96,
   "metadata": {},
   "outputs": [],
   "source": [
    "def openTensor(imgStr):\n",
    "    img = []\n",
    "    for imgName in imgStr:\n",
    "        img.append(np.array(Image.open(imgName)))\n",
    "    return np.array(img).reshape(2, 112, 92)/255"
   ]
  },
  {
   "cell_type": "code",
   "execution_count": 97,
   "metadata": {},
   "outputs": [],
   "source": [
    "from PIL import Image"
   ]
  },
  {
   "cell_type": "code",
   "execution_count": 98,
   "metadata": {},
   "outputs": [],
   "source": [
    "data = []"
   ]
  },
  {
   "cell_type": "code",
   "execution_count": 100,
   "metadata": {},
   "outputs": [],
   "source": [
    "for i in x:\n",
    "    data.append(openTensor(i))"
   ]
  },
  {
   "cell_type": "code",
   "execution_count": 101,
   "metadata": {},
   "outputs": [],
   "source": [
    "np.save(\"DATA\", np.array(data))"
   ]
  },
  {
   "cell_type": "code",
   "execution_count": null,
   "metadata": {},
   "outputs": [],
   "source": []
  }
 ],
 "metadata": {
  "kernelspec": {
   "display_name": "Python 3",
   "language": "python",
   "name": "python3"
  },
  "language_info": {
   "codemirror_mode": {
    "name": "ipython",
    "version": 3
   },
   "file_extension": ".py",
   "mimetype": "text/x-python",
   "name": "python",
   "nbconvert_exporter": "python",
   "pygments_lexer": "ipython3",
   "version": "3.5.2"
  }
 },
 "nbformat": 4,
 "nbformat_minor": 2
}
