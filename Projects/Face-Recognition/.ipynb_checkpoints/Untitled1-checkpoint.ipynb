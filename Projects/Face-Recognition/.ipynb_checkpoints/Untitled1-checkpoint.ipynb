{
 "cells": [
  {
   "cell_type": "code",
   "execution_count": 12,
   "metadata": {},
   "outputs": [],
   "source": [
    "import numpy as np\n",
    "from PIL import Image\n",
    "from keras.layers import Dense, Dropout, BatchNormalization, Conv2D, MaxPool2D, Activation, Flatten\n",
    "from keras.models import Sequential\n",
    "import matplotlib.pyplot as plt\n",
    "%matplotlib inline"
   ]
  },
  {
   "cell_type": "code",
   "execution_count": 13,
   "metadata": {},
   "outputs": [],
   "source": [
    "imgs = np.load(\"DATA.npy\")"
   ]
  },
  {
   "cell_type": "code",
   "execution_count": 14,
   "metadata": {},
   "outputs": [],
   "source": [
    "labels = np.load(\"Y.npy\")"
   ]
  },
  {
   "cell_type": "code",
   "execution_count": 15,
   "metadata": {},
   "outputs": [],
   "source": [
    "def openTensor(imgStr):\n",
    "    img = []\n",
    "    for imgName in imgStr:\n",
    "        img.append(np.array(Image.open(imgName)))\n",
    "    return np.array(img).reshape(2, 112, 92)/255"
   ]
  },
  {
   "cell_type": "code",
   "execution_count": 16,
   "metadata": {},
   "outputs": [],
   "source": [
    "import keras.backend as tf"
   ]
  },
  {
   "cell_type": "code",
   "execution_count": 17,
   "metadata": {},
   "outputs": [],
   "source": [
    "model = Sequential()"
   ]
  },
  {
   "cell_type": "code",
   "execution_count": 18,
   "metadata": {},
   "outputs": [],
   "source": [
    "model.add(Conv2D(filters = 32, kernel_size=3, padding='same', input_shape = (2, 112, 92)))\n",
    "model.add(BatchNormalization())\n",
    "model.add(Activation(\"relu\"))\n",
    "model.add(MaxPool2D(strides=2, padding=\"same\"))\n",
    "\n",
    "model.add(Conv2D(filters = 64, kernel_size=3, padding='same'))\n",
    "model.add(BatchNormalization())\n",
    "model.add(Activation(\"relu\"))\n",
    "model.add(MaxPool2D(strides=2, padding=\"same\"))\n",
    "\n",
    "model.add(Conv2D(filters = 128, kernel_size=3, padding='same'))\n",
    "model.add(BatchNormalization())\n",
    "model.add(Activation(\"relu\"))\n",
    "model.add(MaxPool2D(strides=2, padding=\"same\"))\n",
    "\n",
    "model.add(Conv2D(filters = 256, kernel_size=5, padding='same'))\n",
    "model.add(BatchNormalization())\n",
    "model.add(Activation(\"relu\"))\n",
    "model.add(MaxPool2D(strides=2, padding=\"same\"))\n",
    "\n",
    "model.add(Conv2D(filters = 512, kernel_size=5, padding='same'))\n",
    "model.add(BatchNormalization())\n",
    "model.add(Activation(\"relu\"))\n",
    "model.add(MaxPool2D(strides=2, padding=\"same\"))\n",
    "\n",
    "model.add(Flatten())\n",
    "\n",
    "model.add(Dense(units = 512, activation=\"relu\"))\n",
    "model.add(BatchNormalization())\n",
    "model.add(Dropout(0.35))\n",
    "model.add(Dense(units = 256, activation=\"relu\"))\n",
    "model.add(BatchNormalization())\n",
    "model.add(Dropout(0.35))\n",
    "model.add(Dense(units = 128, activation=\"relu\"))\n",
    "model.add(BatchNormalization())\n",
    "model.add(Dropout(0.5))\n",
    "model.add(Dense(units = 64, activation=\"relu\"))\n",
    "model.add(BatchNormalization())\n",
    "model.add(Dropout(0.35))\n",
    "model.add(Dense(units = 1, activation=\"sigmoid\"))"
   ]
  },
  {
   "cell_type": "code",
   "execution_count": 19,
   "metadata": {},
   "outputs": [],
   "source": [
    "model.compile(optimizer=\"adam\", loss = \"binary_crossentropy\")"
   ]
  },
  {
   "cell_type": "code",
   "execution_count": 21,
   "metadata": {},
   "outputs": [
    {
     "name": "stdout",
     "output_type": "stream",
     "text": [
      "Epoch 1/100\n",
      "400/400 [==============================] - 5s 13ms/step - loss: 0.0335\n",
      "Epoch 2/100\n",
      "400/400 [==============================] - 6s 14ms/step - loss: 0.0556\n",
      "Epoch 3/100\n",
      "400/400 [==============================] - 6s 15ms/step - loss: 0.0183\n",
      "Epoch 4/100\n",
      "400/400 [==============================] - 6s 15ms/step - loss: 0.0309\n",
      "Epoch 5/100\n",
      "400/400 [==============================] - 6s 14ms/step - loss: 0.0158\n",
      "Epoch 6/100\n",
      "400/400 [==============================] - 6s 15ms/step - loss: 0.0246\n",
      "Epoch 7/100\n",
      "400/400 [==============================] - 6s 15ms/step - loss: 0.0145\n",
      "Epoch 8/100\n",
      "400/400 [==============================] - 6s 15ms/step - loss: 0.0133\n",
      "Epoch 9/100\n",
      "400/400 [==============================] - 6s 16ms/step - loss: 0.0302\n",
      "Epoch 10/100\n",
      "400/400 [==============================] - 6s 15ms/step - loss: 0.0164\n",
      "Epoch 11/100\n",
      "400/400 [==============================] - 6s 15ms/step - loss: 0.0266\n",
      "Epoch 12/100\n",
      "400/400 [==============================] - 6s 15ms/step - loss: 0.0273\n",
      "Epoch 13/100\n",
      "400/400 [==============================] - 7s 16ms/step - loss: 0.0178\n",
      "Epoch 14/100\n",
      "400/400 [==============================] - 6s 16ms/step - loss: 0.0140\n",
      "Epoch 15/100\n",
      "400/400 [==============================] - 6s 15ms/step - loss: 0.0174\n",
      "Epoch 16/100\n",
      "400/400 [==============================] - 6s 14ms/step - loss: 0.0097\n",
      "Epoch 17/100\n",
      "400/400 [==============================] - 6s 16ms/step - loss: 0.0088\n",
      "Epoch 18/100\n",
      "400/400 [==============================] - 6s 15ms/step - loss: 0.0111\n",
      "Epoch 19/100\n",
      "400/400 [==============================] - 6s 15ms/step - loss: 0.0139\n",
      "Epoch 20/100\n",
      "400/400 [==============================] - 6s 15ms/step - loss: 0.0206\n",
      "Epoch 21/100\n",
      "400/400 [==============================] - 6s 15ms/step - loss: 0.0071\n",
      "Epoch 22/100\n",
      "400/400 [==============================] - 6s 15ms/step - loss: 0.0148\n",
      "Epoch 23/100\n",
      "400/400 [==============================] - 6s 15ms/step - loss: 0.0094\n",
      "Epoch 24/100\n",
      "400/400 [==============================] - 6s 15ms/step - loss: 0.0089\n",
      "Epoch 25/100\n",
      "400/400 [==============================] - 6s 15ms/step - loss: 0.0090\n",
      "Epoch 26/100\n",
      "400/400 [==============================] - 6s 16ms/step - loss: 0.0072\n",
      "Epoch 27/100\n",
      "400/400 [==============================] - 6s 15ms/step - loss: 0.0083\n",
      "Epoch 28/100\n",
      "400/400 [==============================] - 6s 15ms/step - loss: 0.0074\n",
      "Epoch 29/100\n",
      "400/400 [==============================] - 6s 16ms/step - loss: 0.0074\n",
      "Epoch 30/100\n",
      "400/400 [==============================] - 6s 15ms/step - loss: 0.0133\n",
      "Epoch 31/100\n",
      "400/400 [==============================] - 6s 16ms/step - loss: 0.0042\n",
      "Epoch 32/100\n",
      "400/400 [==============================] - 6s 15ms/step - loss: 0.0056\n",
      "Epoch 33/100\n",
      "400/400 [==============================] - 6s 14ms/step - loss: 0.0134\n",
      "Epoch 34/100\n",
      "400/400 [==============================] - 6s 15ms/step - loss: 0.0059\n",
      "Epoch 35/100\n",
      "400/400 [==============================] - 7s 16ms/step - loss: 0.0157\n",
      "Epoch 36/100\n",
      "400/400 [==============================] - 7s 17ms/step - loss: 0.0042\n",
      "Epoch 37/100\n",
      "400/400 [==============================] - 6s 16ms/step - loss: 0.0079\n",
      "Epoch 38/100\n",
      "400/400 [==============================] - 6s 15ms/step - loss: 0.0067\n",
      "Epoch 39/100\n",
      "400/400 [==============================] - 7s 16ms/step - loss: 0.0053\n",
      "Epoch 40/100\n",
      "400/400 [==============================] - 6s 16ms/step - loss: 0.0037\n",
      "Epoch 41/100\n",
      "400/400 [==============================] - 7s 16ms/step - loss: 0.0044\n",
      "Epoch 42/100\n",
      "400/400 [==============================] - 6s 16ms/step - loss: 0.0114\n",
      "Epoch 43/100\n",
      "400/400 [==============================] - 6s 16ms/step - loss: 0.0063\n",
      "Epoch 44/100\n",
      "400/400 [==============================] - 6s 16ms/step - loss: 0.0082\n",
      "Epoch 45/100\n",
      "400/400 [==============================] - 6s 16ms/step - loss: 0.0117\n",
      "Epoch 46/100\n",
      "400/400 [==============================] - 6s 16ms/step - loss: 0.0071\n",
      "Epoch 47/100\n",
      "400/400 [==============================] - 6s 16ms/step - loss: 0.0025\n",
      "Epoch 48/100\n",
      "400/400 [==============================] - 6s 16ms/step - loss: 0.0054\n",
      "Epoch 49/100\n",
      "400/400 [==============================] - 6s 16ms/step - loss: 0.0052\n",
      "Epoch 50/100\n",
      "400/400 [==============================] - 6s 16ms/step - loss: 0.0063\n",
      "Epoch 51/100\n",
      "400/400 [==============================] - 6s 15ms/step - loss: 0.0052\n",
      "Epoch 52/100\n",
      "400/400 [==============================] - 6s 15ms/step - loss: 0.0041\n",
      "Epoch 53/100\n",
      "400/400 [==============================] - 6s 16ms/step - loss: 0.0048\n",
      "Epoch 54/100\n",
      "400/400 [==============================] - 6s 16ms/step - loss: 0.0100\n",
      "Epoch 55/100\n",
      "400/400 [==============================] - 6s 16ms/step - loss: 0.0054\n",
      "Epoch 56/100\n",
      "400/400 [==============================] - 6s 15ms/step - loss: 0.0029\n",
      "Epoch 57/100\n",
      "400/400 [==============================] - 6s 14ms/step - loss: 0.0031\n",
      "Epoch 58/100\n",
      "400/400 [==============================] - 5s 14ms/step - loss: 0.0116\n",
      "Epoch 59/100\n",
      "400/400 [==============================] - 6s 14ms/step - loss: 0.0037\n",
      "Epoch 60/100\n",
      "400/400 [==============================] - 6s 14ms/step - loss: 0.0031\n",
      "Epoch 61/100\n",
      "400/400 [==============================] - 6s 15ms/step - loss: 0.0015\n",
      "Epoch 62/100\n",
      "400/400 [==============================] - 6s 16ms/step - loss: 0.0089\n",
      "Epoch 63/100\n",
      "400/400 [==============================] - 6s 14ms/step - loss: 0.0028\n",
      "Epoch 64/100\n",
      "400/400 [==============================] - 6s 15ms/step - loss: 0.0038\n",
      "Epoch 65/100\n",
      "400/400 [==============================] - 6s 15ms/step - loss: 0.0018\n",
      "Epoch 66/100\n",
      "400/400 [==============================] - 6s 15ms/step - loss: 0.0031\n",
      "Epoch 67/100\n",
      "400/400 [==============================] - 6s 15ms/step - loss: 0.0023\n",
      "Epoch 68/100\n",
      "400/400 [==============================] - 6s 15ms/step - loss: 0.0019\n",
      "Epoch 69/100\n",
      "400/400 [==============================] - 6s 15ms/step - loss: 0.0024\n",
      "Epoch 70/100\n",
      "400/400 [==============================] - 6s 15ms/step - loss: 0.0081\n",
      "Epoch 71/100\n",
      "400/400 [==============================] - 6s 15ms/step - loss: 0.0194\n",
      "Epoch 72/100\n",
      "400/400 [==============================] - 6s 15ms/step - loss: 0.0030\n",
      "Epoch 73/100\n",
      "400/400 [==============================] - 6s 14ms/step - loss: 0.0064\n",
      "Epoch 74/100\n",
      "400/400 [==============================] - 6s 14ms/step - loss: 0.0046\n",
      "Epoch 75/100\n",
      "400/400 [==============================] - 6s 14ms/step - loss: 0.0021\n",
      "Epoch 76/100\n",
      "400/400 [==============================] - 6s 15ms/step - loss: 0.0019\n",
      "Epoch 77/100\n",
      "400/400 [==============================] - 6s 14ms/step - loss: 0.0023\n",
      "Epoch 78/100\n",
      "400/400 [==============================] - 6s 14ms/step - loss: 0.0081\n",
      "Epoch 79/100\n",
      "400/400 [==============================] - 6s 14ms/step - loss: 0.0088\n",
      "Epoch 80/100\n",
      "400/400 [==============================] - 6s 15ms/step - loss: 0.0012\n",
      "Epoch 81/100\n",
      "400/400 [==============================] - 6s 14ms/step - loss: 0.0085\n",
      "Epoch 82/100\n",
      "400/400 [==============================] - 6s 15ms/step - loss: 0.0062\n",
      "Epoch 83/100\n",
      "400/400 [==============================] - 6s 15ms/step - loss: 0.0021\n",
      "Epoch 84/100\n",
      "400/400 [==============================] - 6s 15ms/step - loss: 0.0040\n",
      "Epoch 85/100\n",
      "400/400 [==============================] - 6s 16ms/step - loss: 0.0027\n",
      "Epoch 86/100\n",
      "400/400 [==============================] - 6s 15ms/step - loss: 0.0053\n",
      "Epoch 87/100\n",
      "400/400 [==============================] - 6s 15ms/step - loss: 0.0105\n",
      "Epoch 88/100\n",
      "400/400 [==============================] - 6s 15ms/step - loss: 0.0036\n",
      "Epoch 89/100\n",
      "400/400 [==============================] - 6s 15ms/step - loss: 0.0035\n",
      "Epoch 90/100\n",
      "400/400 [==============================] - 6s 15ms/step - loss: 0.0208\n",
      "Epoch 91/100\n",
      "400/400 [==============================] - 7s 16ms/step - loss: 0.0067\n",
      "Epoch 92/100\n",
      "400/400 [==============================] - 5s 14ms/step - loss: 0.0045\n",
      "Epoch 93/100\n",
      "400/400 [==============================] - 6s 14ms/step - loss: 0.0127\n",
      "Epoch 94/100\n",
      "400/400 [==============================] - 6s 14ms/step - loss: 0.0013\n",
      "Epoch 95/100\n",
      "400/400 [==============================] - 6s 15ms/step - loss: 0.0022\n",
      "Epoch 96/100\n",
      "400/400 [==============================] - 6s 14ms/step - loss: 0.0020\n",
      "Epoch 97/100\n",
      "400/400 [==============================] - 6s 15ms/step - loss: 0.0082\n",
      "Epoch 98/100\n"
     ]
    },
    {
     "name": "stdout",
     "output_type": "stream",
     "text": [
      "400/400 [==============================] - 6s 16ms/step - loss: 0.0023\n",
      "Epoch 99/100\n",
      "400/400 [==============================] - 6s 14ms/step - loss: 0.0233\n",
      "Epoch 100/100\n",
      "400/400 [==============================] - 6s 14ms/step - loss: 0.0016\n"
     ]
    },
    {
     "data": {
      "text/plain": [
       "<keras.callbacks.History at 0x7fcffe0748d0>"
      ]
     },
     "execution_count": 21,
     "metadata": {},
     "output_type": "execute_result"
    }
   ],
   "source": [
    "model.fit(x = imgs, y = labels, epochs = 100, batch_size=25)"
   ]
  },
  {
   "cell_type": "code",
   "execution_count": 26,
   "metadata": {},
   "outputs": [],
   "source": [
    "d = model.predict(imgs[149].reshape(1, 2, 112, 92))"
   ]
  },
  {
   "cell_type": "code",
   "execution_count": 27,
   "metadata": {},
   "outputs": [
    {
     "data": {
      "text/plain": [
       "array([[8.014156e-05]], dtype=float32)"
      ]
     },
     "execution_count": 27,
     "metadata": {},
     "output_type": "execute_result"
    }
   ],
   "source": [
    "d"
   ]
  },
  {
   "cell_type": "code",
   "execution_count": 25,
   "metadata": {},
   "outputs": [
    {
     "data": {
      "text/plain": [
       "<matplotlib.image.AxesImage at 0x7f9ed80363c8>"
      ]
     },
     "execution_count": 25,
     "metadata": {},
     "output_type": "execute_result"
    },
    {
     "data": {
      "image/png": "[encoded data removed]",
      "text/plain": [
       "<matplotlib.figure.Figure at 0x7f9ed809e518>"
      ]
     },
     "metadata": {},
     "output_type": "display_data"
    }
   ],
   "source": [
    "plt.imshow(imgs[149][1])"
   ]
  },
  {
   "cell_type": "code",
   "execution_count": 31,
   "metadata": {},
   "outputs": [
    {
     "data": {
      "text/plain": [
       "array([0])"
      ]
     },
     "execution_count": 31,
     "metadata": {},
     "output_type": "execute_result"
    }
   ],
   "source": [
    "labels[149]"
   ]
  },
  {
   "cell_type": "code",
   "execution_count": null,
   "metadata": {},
   "outputs": [],
   "source": []
  }
 ],
 "metadata": {
  "kernelspec": {
   "display_name": "Python 3",
   "language": "python",
   "name": "python3"
  },
  "language_info": {
   "codemirror_mode": {
    "name": "ipython",
    "version": 3
   },
   "file_extension": ".py",
   "mimetype": "text/x-python",
   "name": "python",
   "nbconvert_exporter": "python",
   "pygments_lexer": "ipython3",
   "version": "3.5.2"
  }
 },
 "nbformat": 4,
 "nbformat_minor": 2
}
