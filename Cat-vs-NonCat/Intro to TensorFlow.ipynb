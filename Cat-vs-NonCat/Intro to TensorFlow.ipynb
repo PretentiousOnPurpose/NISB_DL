{
 "cells": [
  {
   "cell_type": "code",
   "execution_count": 118,
   "metadata": {},
   "outputs": [],
   "source": [
    "import tensorflow as tf\n",
    "import numpy as np\n",
    "import h5py\n",
    "from keras.utils import to_categorical\n",
    "from keras.layers import BatchNormalization\n",
    "import matplotlib.pyplot as plt"
   ]
  },
  {
   "cell_type": "code",
   "execution_count": 126,
   "metadata": {},
   "outputs": [],
   "source": [
    "ds = h5py.File(\"train_catvnoncat.h5\", \"r\")"
   ]
  },
  {
   "cell_type": "code",
   "execution_count": 125,
   "metadata": {},
   "outputs": [],
   "source": [
    "xtr = np.array(ds['train_set_x'])"
   ]
  },
  {
   "cell_type": "code",
   "execution_count": 127,
   "metadata": {},
   "outputs": [],
   "source": [
    "ytr = np.array(np.array(ds['train_set_y']))"
   ]
  },
  {
   "cell_type": "code",
   "execution_count": 128,
   "metadata": {},
   "outputs": [],
   "source": [
    "ds2 = h5py.File(\"test_catvnoncat.h5\", \"r\")"
   ]
  },
  {
   "cell_type": "code",
   "execution_count": 53,
   "metadata": {},
   "outputs": [],
   "source": [
    "xts = np.array(ds2['test_set_x'])"
   ]
  },
  {
   "cell_type": "code",
   "execution_count": 129,
   "metadata": {},
   "outputs": [],
   "source": [
    "yts = np.array(ds2['test_set_y'])"
   ]
  },
  {
   "cell_type": "code",
   "execution_count": 62,
   "metadata": {},
   "outputs": [],
   "source": [
    "np.save(\"imgs\", np.array(imgs))"
   ]
  },
  {
   "cell_type": "code",
   "execution_count": 132,
   "metadata": {},
   "outputs": [],
   "source": [
    "np.save(\"labels\", np.array(label))"
   ]
  },
  {
   "cell_type": "code",
   "execution_count": 59,
   "metadata": {},
   "outputs": [],
   "source": [
    "imgs = np.append(arr = xtr, values = xts, axis = 0)"
   ]
  },
  {
   "cell_type": "code",
   "execution_count": 69,
   "metadata": {},
   "outputs": [],
   "source": [
    "yts = yts.reshape(-1, 1)"
   ]
  },
  {
   "cell_type": "code",
   "execution_count": 130,
   "metadata": {},
   "outputs": [],
   "source": [
    "labels = np.append(ytr, yts, 0).reshape(-1, 1)"
   ]
  },
  {
   "cell_type": "code",
   "execution_count": 131,
   "metadata": {},
   "outputs": [
    {
     "data": {
      "text/plain": [
       "(259, 1)"
      ]
     },
     "execution_count": 131,
     "metadata": {},
     "output_type": "execute_result"
    }
   ],
   "source": [
    "labels.shape"
   ]
  },
  {
   "cell_type": "code",
   "execution_count": 94,
   "metadata": {},
   "outputs": [],
   "source": [
    "label = to_categorical(labels)"
   ]
  },
  {
   "cell_type": "code",
   "execution_count": null,
   "metadata": {},
   "outputs": [],
   "source": []
  },
  {
   "cell_type": "code",
   "execution_count": 119,
   "metadata": {},
   "outputs": [],
   "source": [
    "imgs = np.load(\"imgs.npy\")/255"
   ]
  },
  {
   "cell_type": "code",
   "execution_count": 120,
   "metadata": {},
   "outputs": [],
   "source": [
    "labels = np.load(\"labels.npy\")"
   ]
  },
  {
   "cell_type": "code",
   "execution_count": 121,
   "metadata": {},
   "outputs": [],
   "source": [
    "X = tf.placeholder(dtype = tf.float32, shape = [None, 12288])\n",
    "Y = tf.placeholder(dtype = tf.float32, shape = [None, 1])"
   ]
  },
  {
   "cell_type": "code",
   "execution_count": 122,
   "metadata": {},
   "outputs": [],
   "source": [
    "W1 = tf.Variable(initial_value = tf.random_normal(shape = (12288, 1024)))\n",
    "b1 = tf.Variable(initial_value = tf.random_normal(shape = (1, 1024)))\n",
    "Z1 = tf.matmul(X, W1) + b1\n",
    "A1 = tf.nn.relu(Z1)/np.max(Z1)"
   ]
  },
  {
   "cell_type": "code",
   "execution_count": 123,
   "metadata": {},
   "outputs": [],
   "source": [
    "W2 = tf.Variable(initial_value = tf.random_normal(shape = (1024, 512)))\n",
    "b2 = tf.Variable(initial_value = tf.random_normal(shape = (1, 512)))\n",
    "Z2 = tf.matmul(A1, W2) + b2\n",
    "A2 = tf.nn.relu(Z2)/np.max(Z2)"
   ]
  },
  {
   "cell_type": "code",
   "execution_count": 124,
   "metadata": {},
   "outputs": [],
   "source": [
    "W3 = tf.Variable(initial_value = tf.random_normal(shape = (512, 256)))\n",
    "b3 = tf.Variable(initial_value = tf.random_normal(shape = (1, 256)))\n",
    "Z3 = tf.matmul(A2, W3) + b3\n",
    "A3 = tf.nn.relu(Z3)/np.max(Z3)"
   ]
  },
  {
   "cell_type": "code",
   "execution_count": 125,
   "metadata": {},
   "outputs": [],
   "source": [
    "W4 = tf.Variable(initial_value = tf.random_normal(shape = (256, 128)))\n",
    "b4 = tf.Variable(initial_value = tf.random_normal(shape = (1, 128)))\n",
    "Z4 = tf.matmul(A3, W4) + b4\n",
    "A4 = tf.nn.relu(Z4)/np.max(Z4)"
   ]
  },
  {
   "cell_type": "code",
   "execution_count": 126,
   "metadata": {},
   "outputs": [],
   "source": [
    "W5 = tf.Variable(initial_value = tf.random_normal(shape = (128, 64)))\n",
    "b5 = tf.Variable(initial_value = tf.random_normal(shape = (1, 64)))\n",
    "Z5 = tf.matmul(A4, W5) + b5\n",
    "A5 = tf.nn.relu(Z5)/np.max(Z5)"
   ]
  },
  {
   "cell_type": "code",
   "execution_count": 127,
   "metadata": {},
   "outputs": [],
   "source": [
    "W6 = tf.Variable(initial_value = tf.random_normal(shape = (64, 16)))\n",
    "b6 = tf.Variable(initial_value = tf.random_normal(shape = (1, 16)))\n",
    "Z6 = tf.matmul(A5, W6) + b6\n",
    "A6 = tf.nn.relu(Z6)/np.max(Z6)"
   ]
  },
  {
   "cell_type": "code",
   "execution_count": 128,
   "metadata": {},
   "outputs": [],
   "source": [
    "W7 = tf.Variable(initial_value = tf.random_normal(shape = (16, 1)))\n",
    "b7 = tf.Variable(initial_value = tf.random_normal(shape = (1, 1)))\n",
    "Z7 = tf.matmul(A6, W7) + b7\n",
    "A7 = tf.sigmoid(Z7)"
   ]
  },
  {
   "cell_type": "code",
   "execution_count": 129,
   "metadata": {},
   "outputs": [],
   "source": [
    "loss = tf.reduce_mean(tf.nn.sigmoid_cross_entropy_with_logits(labels = Y, logits = A7))"
   ]
  },
  {
   "cell_type": "code",
   "execution_count": 130,
   "metadata": {},
   "outputs": [],
   "source": [
    "opt = tf.train.AdagradOptimizer(learning_rate = 0.1)"
   ]
  },
  {
   "cell_type": "code",
   "execution_count": 131,
   "metadata": {},
   "outputs": [],
   "source": [
    "train_step = opt.minimize(loss)"
   ]
  },
  {
   "cell_type": "code",
   "execution_count": 132,
   "metadata": {},
   "outputs": [],
   "source": [
    "sess = tf.Session()"
   ]
  },
  {
   "cell_type": "code",
   "execution_count": 133,
   "metadata": {},
   "outputs": [],
   "source": [
    "sess.run(tf.global_variables_initializer())"
   ]
  },
  {
   "cell_type": "code",
   "execution_count": 134,
   "metadata": {},
   "outputs": [],
   "source": [
    "def train(epochs = 20):\n",
    "    for e in range(epochs):\n",
    "        L, _ = sess.run(fetches = [loss, train_step], feed_dict={X: imgs.reshape(-1, 64*64*3), Y: labels})\n",
    "        if e % 50 == 0:\n",
    "            print(\"epoch {} | Loss: {}\".format(e, L))"
   ]
  },
  {
   "cell_type": "code",
   "execution_count": null,
   "metadata": {},
   "outputs": [
    {
     "name": "stdout",
     "output_type": "stream",
     "text": [
      "epoch 0 | Loss: 0.751636803150177\n",
      "epoch 50 | Loss: 0.7046946883201599\n",
      "epoch 100 | Loss: 0.6984577178955078\n",
      "epoch 150 | Loss: 0.696494460105896\n",
      "epoch 200 | Loss: 0.6955735087394714\n",
      "epoch 250 | Loss: 0.6950456500053406\n",
      "epoch 300 | Loss: 0.6947051286697388\n",
      "epoch 350 | Loss: 0.6944679021835327\n",
      "epoch 400 | Loss: 0.6942932605743408\n",
      "epoch 450 | Loss: 0.6941595077514648\n",
      "epoch 500 | Loss: 0.6940537095069885\n",
      "epoch 550 | Loss: 0.6939679980278015\n",
      "epoch 600 | Loss: 0.6938972473144531\n",
      "epoch 650 | Loss: 0.6938377618789673\n",
      "epoch 700 | Loss: 0.6937870979309082\n",
      "epoch 750 | Loss: 0.6937433481216431\n",
      "epoch 800 | Loss: 0.6937052607536316\n",
      "epoch 850 | Loss: 0.6936718225479126\n",
      "epoch 900 | Loss: 0.6936421394348145\n",
      "epoch 950 | Loss: 0.6936157941818237\n",
      "epoch 1000 | Loss: 0.6935920119285583\n",
      "epoch 1050 | Loss: 0.6935704946517944\n",
      "epoch 1100 | Loss: 0.6935511231422424\n",
      "epoch 1150 | Loss: 0.6935334801673889\n",
      "epoch 1200 | Loss: 0.69351726770401\n",
      "epoch 1250 | Loss: 0.6935024261474609\n",
      "epoch 1300 | Loss: 0.6934887170791626\n",
      "epoch 1350 | Loss: 0.6934760212898254\n",
      "epoch 1400 | Loss: 0.6934641599655151\n",
      "epoch 1450 | Loss: 0.693453311920166\n",
      "epoch 1500 | Loss: 0.6934431195259094\n",
      "epoch 1550 | Loss: 0.6934335231781006\n",
      "epoch 1600 | Loss: 0.6934245824813843\n",
      "epoch 1650 | Loss: 0.6934162378311157\n",
      "epoch 1700 | Loss: 0.6934083700180054\n",
      "epoch 1750 | Loss: 0.6934008598327637\n",
      "epoch 1800 | Loss: 0.693393886089325\n",
      "epoch 1850 | Loss: 0.6933872699737549\n",
      "epoch 1900 | Loss: 0.6933809518814087\n",
      "epoch 1950 | Loss: 0.6933750510215759\n",
      "epoch 2000 | Loss: 0.6933693289756775\n",
      "epoch 2050 | Loss: 0.6933639645576477\n",
      "epoch 2100 | Loss: 0.693358838558197\n",
      "epoch 2150 | Loss: 0.6933539509773254\n",
      "epoch 2200 | Loss: 0.6933493614196777\n",
      "epoch 2250 | Loss: 0.6933448910713196\n",
      "epoch 2300 | Loss: 0.6933406591415405\n",
      "epoch 2350 | Loss: 0.6933364868164062\n",
      "epoch 2400 | Loss: 0.6933325529098511\n",
      "epoch 2450 | Loss: 0.693328857421875\n",
      "epoch 2500 | Loss: 0.6933253407478333\n",
      "epoch 2550 | Loss: 0.6933217644691467\n",
      "epoch 2600 | Loss: 0.6933184862136841\n",
      "epoch 2650 | Loss: 0.693315327167511\n",
      "epoch 2700 | Loss: 0.6933122277259827\n",
      "epoch 2750 | Loss: 0.6933092474937439\n",
      "epoch 2800 | Loss: 0.6933064460754395\n",
      "epoch 2850 | Loss: 0.693303644657135\n",
      "epoch 2900 | Loss: 0.6933009624481201\n",
      "epoch 2950 | Loss: 0.6932984590530396\n",
      "epoch 3000 | Loss: 0.693295955657959\n",
      "epoch 3050 | Loss: 0.693293571472168\n",
      "epoch 3100 | Loss: 0.693291187286377\n",
      "epoch 3150 | Loss: 0.6932889223098755\n",
      "epoch 3200 | Loss: 0.6932867765426636\n",
      "epoch 3250 | Loss: 0.6932847499847412\n",
      "epoch 3300 | Loss: 0.6932826042175293\n",
      "epoch 3350 | Loss: 0.6932805776596069\n",
      "epoch 3400 | Loss: 0.6932787299156189\n",
      "epoch 3450 | Loss: 0.6932768225669861\n",
      "epoch 3500 | Loss: 0.6932750344276428\n",
      "epoch 3550 | Loss: 0.6932731866836548\n",
      "epoch 3600 | Loss: 0.6932714581489563\n",
      "epoch 3650 | Loss: 0.6932698488235474\n",
      "epoch 3700 | Loss: 0.6932682394981384\n",
      "epoch 3750 | Loss: 0.6932666301727295\n",
      "epoch 3800 | Loss: 0.6932650804519653\n",
      "epoch 3850 | Loss: 0.693263590335846\n",
      "epoch 3900 | Loss: 0.6932621002197266\n",
      "epoch 3950 | Loss: 0.693260669708252\n",
      "epoch 4000 | Loss: 0.6932592988014221\n",
      "epoch 4050 | Loss: 0.6932579278945923\n",
      "epoch 4100 | Loss: 0.6932566165924072\n",
      "epoch 4150 | Loss: 0.6932553052902222\n",
      "epoch 4200 | Loss: 0.6932541131973267\n",
      "epoch 4250 | Loss: 0.6932528018951416\n",
      "epoch 4300 | Loss: 0.6932515501976013\n",
      "epoch 4350 | Loss: 0.6932503581047058\n",
      "epoch 4400 | Loss: 0.6932493448257446\n",
      "epoch 4450 | Loss: 0.6932481527328491\n",
      "epoch 4500 | Loss: 0.6932470798492432\n",
      "epoch 4550 | Loss: 0.6932459473609924\n",
      "epoch 4600 | Loss: 0.6932449340820312\n",
      "epoch 4650 | Loss: 0.6932438611984253\n",
      "epoch 4700 | Loss: 0.6932429075241089\n",
      "epoch 4750 | Loss: 0.6932418942451477\n",
      "epoch 4800 | Loss: 0.6932409405708313\n",
      "epoch 4850 | Loss: 0.6932399272918701\n",
      "epoch 4900 | Loss: 0.6932390332221985\n",
      "epoch 4950 | Loss: 0.6932381391525269\n",
      "epoch 5000 | Loss: 0.6932372450828552\n",
      "epoch 5050 | Loss: 0.6932363510131836\n",
      "epoch 5100 | Loss: 0.6932355165481567\n",
      "epoch 5150 | Loss: 0.6932347416877747\n",
      "epoch 5200 | Loss: 0.6932339072227478\n",
      "epoch 5250 | Loss: 0.693233072757721\n",
      "epoch 5300 | Loss: 0.6932322978973389\n",
      "epoch 5350 | Loss: 0.693231463432312\n",
      "epoch 5400 | Loss: 0.6932306885719299\n",
      "epoch 5450 | Loss: 0.6932299733161926\n",
      "epoch 5500 | Loss: 0.6932292580604553\n",
      "epoch 5550 | Loss: 0.6932284832000732\n",
      "epoch 5600 | Loss: 0.6932277679443359\n",
      "epoch 5650 | Loss: 0.6932270526885986\n",
      "epoch 5700 | Loss: 0.6932264566421509\n",
      "epoch 5750 | Loss: 0.6932257413864136\n",
      "epoch 5800 | Loss: 0.6932250261306763\n",
      "epoch 5850 | Loss: 0.6932244896888733\n",
      "epoch 5900 | Loss: 0.6932238936424255\n",
      "epoch 5950 | Loss: 0.6932231187820435\n",
      "epoch 6000 | Loss: 0.6932225227355957\n",
      "epoch 6050 | Loss: 0.6932219862937927\n",
      "epoch 6100 | Loss: 0.6932213306427002\n",
      "epoch 6150 | Loss: 0.6932207345962524\n",
      "epoch 6200 | Loss: 0.6932200789451599\n",
      "epoch 6250 | Loss: 0.6932195425033569\n",
      "epoch 6300 | Loss: 0.693219006061554\n",
      "epoch 6350 | Loss: 0.693218469619751\n",
      "epoch 6400 | Loss: 0.693217933177948\n",
      "epoch 6450 | Loss: 0.693217396736145\n",
      "epoch 6500 | Loss: 0.693216860294342\n",
      "epoch 6550 | Loss: 0.6932163238525391\n",
      "epoch 6600 | Loss: 0.6932158470153809\n",
      "epoch 6650 | Loss: 0.6932153105735779\n",
      "epoch 6700 | Loss: 0.6932147741317749\n",
      "epoch 6750 | Loss: 0.6932144165039062\n",
      "epoch 6800 | Loss: 0.6932138800621033\n",
      "epoch 6850 | Loss: 0.6932134032249451\n",
      "epoch 6900 | Loss: 0.6932129263877869\n",
      "epoch 6950 | Loss: 0.6932125091552734\n",
      "epoch 7000 | Loss: 0.6932120323181152\n",
      "epoch 7050 | Loss: 0.693211555480957\n",
      "epoch 7100 | Loss: 0.6932111382484436\n",
      "epoch 7150 | Loss: 0.6932107210159302\n",
      "epoch 7200 | Loss: 0.6932101845741272\n",
      "epoch 7250 | Loss: 0.6932097673416138\n",
      "epoch 7300 | Loss: 0.6932093501091003\n",
      "epoch 7350 | Loss: 0.6932089924812317\n",
      "epoch 7400 | Loss: 0.6932085752487183\n",
      "epoch 7450 | Loss: 0.6932081580162048\n",
      "epoch 7500 | Loss: 0.6932077407836914\n",
      "epoch 7550 | Loss: 0.6932073831558228\n",
      "epoch 7600 | Loss: 0.6932070255279541\n",
      "epoch 7650 | Loss: 0.6932066679000854\n",
      "epoch 7700 | Loss: 0.6932061910629272\n",
      "epoch 7750 | Loss: 0.6932058334350586\n",
      "epoch 7800 | Loss: 0.6932054758071899\n",
      "epoch 7850 | Loss: 0.6932051181793213\n",
      "epoch 7900 | Loss: 0.6932047605514526\n",
      "epoch 7950 | Loss: 0.6932044625282288\n",
      "epoch 8000 | Loss: 0.6932040452957153\n",
      "epoch 8050 | Loss: 0.6932036876678467\n",
      "epoch 8100 | Loss: 0.6932035088539124\n",
      "epoch 8150 | Loss: 0.6932031512260437\n",
      "epoch 8200 | Loss: 0.693202793598175\n",
      "epoch 8250 | Loss: 0.6932024359703064\n",
      "epoch 8300 | Loss: 0.6932021379470825\n",
      "epoch 8350 | Loss: 0.6932017803192139\n",
      "epoch 8400 | Loss: 0.69320148229599\n",
      "epoch 8450 | Loss: 0.6932011246681213\n",
      "epoch 8500 | Loss: 0.6932008266448975\n",
      "epoch 8550 | Loss: 0.6932004690170288\n",
      "epoch 8600 | Loss: 0.6932002305984497\n",
      "epoch 8650 | Loss: 0.693199872970581\n",
      "epoch 8700 | Loss: 0.6931995749473572\n",
      "epoch 8750 | Loss: 0.6931992173194885\n",
      "epoch 8800 | Loss: 0.6931990385055542\n",
      "epoch 8850 | Loss: 0.6931988000869751\n",
      "epoch 8900 | Loss: 0.6931984424591064\n",
      "epoch 8950 | Loss: 0.6931982040405273\n",
      "epoch 9000 | Loss: 0.6931979060173035\n",
      "epoch 9050 | Loss: 0.6931976079940796\n",
      "epoch 9100 | Loss: 0.6931973695755005\n",
      "epoch 9150 | Loss: 0.6931970119476318\n",
      "epoch 9200 | Loss: 0.6931968331336975\n",
      "epoch 9250 | Loss: 0.6931965947151184\n",
      "epoch 9300 | Loss: 0.6931962966918945\n",
      "epoch 9350 | Loss: 0.6931961178779602\n",
      "epoch 9400 | Loss: 0.6931957602500916\n",
      "epoch 9450 | Loss: 0.6931954622268677\n",
      "epoch 9500 | Loss: 0.6931952834129333\n",
      "epoch 9550 | Loss: 0.693195104598999\n",
      "epoch 9600 | Loss: 0.6931948661804199\n",
      "epoch 9650 | Loss: 0.693194568157196\n",
      "epoch 9700 | Loss: 0.6931942701339722\n",
      "epoch 9750 | Loss: 0.6931940913200378\n",
      "epoch 9800 | Loss: 0.6931939125061035\n",
      "epoch 9850 | Loss: 0.6931936144828796\n",
      "epoch 9900 | Loss: 0.6931934952735901\n",
      "epoch 9950 | Loss: 0.6931931972503662\n",
      "epoch 10000 | Loss: 0.6931928992271423\n",
      "epoch 10050 | Loss: 0.6931927800178528\n",
      "epoch 10100 | Loss: 0.6931925415992737\n",
      "epoch 10150 | Loss: 0.6931923031806946\n",
      "epoch 10200 | Loss: 0.6931921243667603\n",
      "epoch 10250 | Loss: 0.6931918859481812\n",
      "epoch 10300 | Loss: 0.693191647529602\n",
      "epoch 10350 | Loss: 0.693191409111023\n",
      "epoch 10400 | Loss: 0.6931912302970886\n",
      "epoch 10450 | Loss: 0.6931909918785095\n",
      "epoch 10500 | Loss: 0.69319087266922\n",
      "epoch 10550 | Loss: 0.6931906342506409\n",
      "epoch 10600 | Loss: 0.6931904554367065\n",
      "epoch 10650 | Loss: 0.6931902170181274\n",
      "epoch 10700 | Loss: 0.6931900382041931\n",
      "epoch 10750 | Loss: 0.693189799785614\n",
      "epoch 10800 | Loss: 0.6931896209716797\n"
     ]
    },
    {
     "name": "stdout",
     "output_type": "stream",
     "text": [
      "epoch 10850 | Loss: 0.6931894421577454\n",
      "epoch 10900 | Loss: 0.6931892037391663\n",
      "epoch 10950 | Loss: 0.6931890249252319\n",
      "epoch 11000 | Loss: 0.6931889057159424\n",
      "epoch 11050 | Loss: 0.6931886672973633\n",
      "epoch 11100 | Loss: 0.6931885480880737\n",
      "epoch 11150 | Loss: 0.6931883692741394\n",
      "epoch 11200 | Loss: 0.6931881904602051\n",
      "epoch 11250 | Loss: 0.693187952041626\n",
      "epoch 11300 | Loss: 0.6931878328323364\n",
      "epoch 11350 | Loss: 0.6931876540184021\n",
      "epoch 11400 | Loss: 0.6931874752044678\n",
      "epoch 11450 | Loss: 0.6931872963905334\n",
      "epoch 11500 | Loss: 0.6931871175765991\n",
      "epoch 11550 | Loss: 0.6931869387626648\n",
      "epoch 11600 | Loss: 0.6931867599487305\n",
      "epoch 11650 | Loss: 0.6931866407394409\n",
      "epoch 11700 | Loss: 0.6931865215301514\n",
      "epoch 11750 | Loss: 0.6931862831115723\n",
      "epoch 11800 | Loss: 0.6931861639022827\n",
      "epoch 11850 | Loss: 0.6931859850883484\n",
      "epoch 11900 | Loss: 0.6931858062744141\n",
      "epoch 11950 | Loss: 0.6931856274604797\n",
      "epoch 12000 | Loss: 0.6931855082511902\n",
      "epoch 12050 | Loss: 0.6931853294372559\n",
      "epoch 12100 | Loss: 0.6931851506233215\n",
      "epoch 12150 | Loss: 0.6931849718093872\n",
      "epoch 12200 | Loss: 0.6931848526000977\n",
      "epoch 12250 | Loss: 0.6931846737861633\n",
      "epoch 12300 | Loss: 0.6931846141815186\n",
      "epoch 12350 | Loss: 0.6931843757629395\n",
      "epoch 12400 | Loss: 0.6931843161582947\n",
      "epoch 12450 | Loss: 0.6931840777397156\n",
      "epoch 12500 | Loss: 0.693183958530426\n",
      "epoch 12550 | Loss: 0.6931838989257812\n",
      "epoch 12600 | Loss: 0.6931837201118469\n",
      "epoch 12650 | Loss: 0.6931836605072021\n",
      "epoch 12700 | Loss: 0.6931834816932678\n",
      "epoch 12750 | Loss: 0.6931833028793335\n",
      "epoch 12800 | Loss: 0.693183183670044\n",
      "epoch 12850 | Loss: 0.6931830048561096\n",
      "epoch 12900 | Loss: 0.6931828856468201\n",
      "epoch 12950 | Loss: 0.6931827068328857\n",
      "epoch 13000 | Loss: 0.693182647228241\n",
      "epoch 13050 | Loss: 0.6931825280189514\n",
      "epoch 13100 | Loss: 0.6931824088096619\n",
      "epoch 13150 | Loss: 0.6931822896003723\n",
      "epoch 13200 | Loss: 0.6931820511817932\n",
      "epoch 13250 | Loss: 0.6931819915771484\n",
      "epoch 13300 | Loss: 0.6931818723678589\n",
      "epoch 13350 | Loss: 0.6931817531585693\n",
      "epoch 13400 | Loss: 0.693181574344635\n",
      "epoch 13450 | Loss: 0.6931814551353455\n",
      "epoch 13500 | Loss: 0.6931813955307007\n",
      "epoch 13550 | Loss: 0.6931812167167664\n",
      "epoch 13600 | Loss: 0.6931810975074768\n",
      "epoch 13650 | Loss: 0.6931809782981873\n",
      "epoch 13700 | Loss: 0.6931807994842529\n",
      "epoch 13750 | Loss: 0.6931807398796082\n",
      "epoch 13800 | Loss: 0.6931806206703186\n",
      "epoch 13850 | Loss: 0.693180501461029\n",
      "epoch 13900 | Loss: 0.6931803822517395\n",
      "epoch 13950 | Loss: 0.69318026304245\n",
      "epoch 14000 | Loss: 0.6931801438331604\n",
      "epoch 14050 | Loss: 0.6931800842285156\n",
      "epoch 14100 | Loss: 0.6931799650192261\n",
      "epoch 14150 | Loss: 0.6931798458099365\n",
      "epoch 14200 | Loss: 0.693179726600647\n",
      "epoch 14250 | Loss: 0.6931796073913574\n",
      "epoch 14300 | Loss: 0.6931794285774231\n",
      "epoch 14350 | Loss: 0.6931793689727783\n",
      "epoch 14400 | Loss: 0.6931792497634888\n",
      "epoch 14450 | Loss: 0.6931791305541992\n",
      "epoch 14500 | Loss: 0.6931790113449097\n",
      "epoch 14550 | Loss: 0.6931788921356201\n",
      "epoch 14600 | Loss: 0.6931788325309753\n",
      "epoch 14650 | Loss: 0.6931787133216858\n",
      "epoch 14700 | Loss: 0.693178653717041\n",
      "epoch 14750 | Loss: 0.6931785345077515\n",
      "epoch 14800 | Loss: 0.6931784152984619\n",
      "epoch 14850 | Loss: 0.6931782960891724\n",
      "epoch 14900 | Loss: 0.6931782960891724\n",
      "epoch 14950 | Loss: 0.6931781768798828\n",
      "epoch 15000 | Loss: 0.6931780576705933\n",
      "epoch 15050 | Loss: 0.6931779980659485\n",
      "epoch 15100 | Loss: 0.6931778192520142\n",
      "epoch 15150 | Loss: 0.6931777596473694\n",
      "epoch 15200 | Loss: 0.6931776404380798\n",
      "epoch 15250 | Loss: 0.6931775808334351\n",
      "epoch 15300 | Loss: 0.6931774616241455\n",
      "epoch 15350 | Loss: 0.693177342414856\n",
      "epoch 15400 | Loss: 0.6931772232055664\n",
      "epoch 15450 | Loss: 0.6931771039962769\n",
      "epoch 15500 | Loss: 0.6931771039962769\n",
      "epoch 15550 | Loss: 0.6931769847869873\n",
      "epoch 15600 | Loss: 0.6931768655776978\n",
      "epoch 15650 | Loss: 0.6931767463684082\n",
      "epoch 15700 | Loss: 0.6931766867637634\n",
      "epoch 15750 | Loss: 0.6931765675544739\n",
      "epoch 15800 | Loss: 0.6931764483451843\n",
      "epoch 15850 | Loss: 0.6931764483451843\n",
      "epoch 15900 | Loss: 0.69317626953125\n",
      "epoch 15950 | Loss: 0.6931761503219604\n",
      "epoch 16000 | Loss: 0.6931761503219604\n",
      "epoch 16050 | Loss: 0.6931760311126709\n",
      "epoch 16100 | Loss: 0.6931759715080261\n",
      "epoch 16150 | Loss: 0.6931759119033813\n",
      "epoch 16200 | Loss: 0.6931757926940918\n",
      "epoch 16250 | Loss: 0.693175733089447\n",
      "epoch 16300 | Loss: 0.6931756138801575\n",
      "epoch 16350 | Loss: 0.6931755542755127\n",
      "epoch 16400 | Loss: 0.6931754350662231\n",
      "epoch 16450 | Loss: 0.6931753158569336\n",
      "epoch 16500 | Loss: 0.6931753158569336\n",
      "epoch 16550 | Loss: 0.6931752562522888\n",
      "epoch 16600 | Loss: 0.6931750178337097\n",
      "epoch 16650 | Loss: 0.6931750178337097\n",
      "epoch 16700 | Loss: 0.6931748986244202\n",
      "epoch 16750 | Loss: 0.6931748986244202\n",
      "epoch 16800 | Loss: 0.6931747794151306\n",
      "epoch 16850 | Loss: 0.6931747198104858\n",
      "epoch 16900 | Loss: 0.6931746006011963\n",
      "epoch 16950 | Loss: 0.6931745409965515\n",
      "epoch 17000 | Loss: 0.693174421787262\n",
      "epoch 17050 | Loss: 0.6931743025779724\n",
      "epoch 17100 | Loss: 0.6931743025779724\n",
      "epoch 17150 | Loss: 0.6931741833686829\n",
      "epoch 17200 | Loss: 0.6931741237640381\n",
      "epoch 17250 | Loss: 0.6931740045547485\n",
      "epoch 17300 | Loss: 0.6931740045547485\n",
      "epoch 17350 | Loss: 0.693173885345459\n",
      "epoch 17400 | Loss: 0.693173885345459\n",
      "epoch 17450 | Loss: 0.6931737661361694\n",
      "epoch 17500 | Loss: 0.6931737065315247\n",
      "epoch 17550 | Loss: 0.6931737065315247\n",
      "epoch 17600 | Loss: 0.6931735873222351\n",
      "epoch 17650 | Loss: 0.6931734681129456\n",
      "epoch 17700 | Loss: 0.6931734681129456\n",
      "epoch 17750 | Loss: 0.6931734085083008\n",
      "epoch 17800 | Loss: 0.6931732892990112\n",
      "epoch 17850 | Loss: 0.6931732296943665\n",
      "epoch 17900 | Loss: 0.6931731700897217\n",
      "epoch 17950 | Loss: 0.6931731104850769\n",
      "epoch 18000 | Loss: 0.6931729912757874\n",
      "epoch 18050 | Loss: 0.6931729316711426\n",
      "epoch 18100 | Loss: 0.6931729316711426\n",
      "epoch 18150 | Loss: 0.693172812461853\n",
      "epoch 18200 | Loss: 0.6931727528572083\n",
      "epoch 18250 | Loss: 0.6931726336479187\n",
      "epoch 18300 | Loss: 0.6931725740432739\n",
      "epoch 18350 | Loss: 0.6931725144386292\n",
      "epoch 18400 | Loss: 0.6931723952293396\n",
      "epoch 18450 | Loss: 0.6931723952293396\n",
      "epoch 18500 | Loss: 0.6931723356246948\n",
      "epoch 18550 | Loss: 0.69317227602005\n",
      "epoch 18600 | Loss: 0.6931722164154053\n",
      "epoch 18650 | Loss: 0.6931721568107605\n",
      "epoch 18700 | Loss: 0.693172037601471\n",
      "epoch 18750 | Loss: 0.693172037601471\n",
      "epoch 18800 | Loss: 0.6931719183921814\n",
      "epoch 18850 | Loss: 0.6931717991828918\n",
      "epoch 18900 | Loss: 0.6931717991828918\n",
      "epoch 18950 | Loss: 0.6931717991828918\n",
      "epoch 19000 | Loss: 0.6931717395782471\n",
      "epoch 19050 | Loss: 0.6931716799736023\n",
      "epoch 19100 | Loss: 0.693171501159668\n",
      "epoch 19150 | Loss: 0.693171501159668\n",
      "epoch 19200 | Loss: 0.6931714415550232\n",
      "epoch 19250 | Loss: 0.6931713819503784\n",
      "epoch 19300 | Loss: 0.6931713223457336\n",
      "epoch 19350 | Loss: 0.6931712627410889\n",
      "epoch 19400 | Loss: 0.6931712031364441\n",
      "epoch 19450 | Loss: 0.6931711435317993\n",
      "epoch 19500 | Loss: 0.6931710839271545\n",
      "epoch 19550 | Loss: 0.6931710243225098\n",
      "epoch 19600 | Loss: 0.6931709051132202\n",
      "epoch 19650 | Loss: 0.6931708455085754\n",
      "epoch 19700 | Loss: 0.6931707859039307\n",
      "epoch 19750 | Loss: 0.6931707859039307\n",
      "epoch 19800 | Loss: 0.6931707262992859\n",
      "epoch 19850 | Loss: 0.6931706070899963\n",
      "epoch 19900 | Loss: 0.6931705474853516\n",
      "epoch 19950 | Loss: 0.6931704878807068\n",
      "epoch 20000 | Loss: 0.693170428276062\n",
      "epoch 20050 | Loss: 0.6931703686714172\n",
      "epoch 20100 | Loss: 0.6931703090667725\n",
      "epoch 20150 | Loss: 0.6931703090667725\n",
      "epoch 20200 | Loss: 0.6931701898574829\n",
      "epoch 20250 | Loss: 0.6931701898574829\n",
      "epoch 20300 | Loss: 0.6931701302528381\n",
      "epoch 20350 | Loss: 0.6931700706481934\n",
      "epoch 20400 | Loss: 0.6931700110435486\n",
      "epoch 20450 | Loss: 0.6931700110435486\n",
      "epoch 20500 | Loss: 0.693169891834259\n",
      "epoch 20550 | Loss: 0.693169891834259\n",
      "epoch 20600 | Loss: 0.6931697726249695\n",
      "epoch 20650 | Loss: 0.6931697726249695\n",
      "epoch 20700 | Loss: 0.6931696534156799\n",
      "epoch 20750 | Loss: 0.6931696534156799\n",
      "epoch 20800 | Loss: 0.6931695938110352\n",
      "epoch 20850 | Loss: 0.6931695938110352\n",
      "epoch 20900 | Loss: 0.6931695342063904\n",
      "epoch 20950 | Loss: 0.6931694149971008\n",
      "epoch 21000 | Loss: 0.693169355392456\n",
      "epoch 21050 | Loss: 0.693169355392456\n",
      "epoch 21100 | Loss: 0.693169355392456\n",
      "epoch 21150 | Loss: 0.6931692957878113\n",
      "epoch 21200 | Loss: 0.6931691765785217\n",
      "epoch 21250 | Loss: 0.6931691765785217\n",
      "epoch 21300 | Loss: 0.693169116973877\n",
      "epoch 21350 | Loss: 0.6931690573692322\n"
     ]
    },
    {
     "name": "stdout",
     "output_type": "stream",
     "text": [
      "epoch 21400 | Loss: 0.6931690573692322\n",
      "epoch 21450 | Loss: 0.6931689381599426\n",
      "epoch 21500 | Loss: 0.6931688785552979\n",
      "epoch 21550 | Loss: 0.6931688189506531\n"
     ]
    }
   ],
   "source": [
    "train(50000)"
   ]
  },
  {
   "cell_type": "code",
   "execution_count": 116,
   "metadata": {},
   "outputs": [],
   "source": [
    "d = sess.run(A7, feed_dict={X: imgs[27].reshape(-1, 12288)})"
   ]
  },
  {
   "cell_type": "code",
   "execution_count": 117,
   "metadata": {},
   "outputs": [
    {
     "data": {
      "text/plain": [
       "array([[0., 0.]], dtype=float32)"
      ]
     },
     "execution_count": 117,
     "metadata": {},
     "output_type": "execute_result"
    }
   ],
   "source": [
    "d"
   ]
  },
  {
   "cell_type": "code",
   "execution_count": 118,
   "metadata": {},
   "outputs": [
    {
     "data": {
      "text/plain": [
       "<matplotlib.image.AxesImage at 0x7f2387808be0>"
      ]
     },
     "execution_count": 118,
     "metadata": {},
     "output_type": "execute_result"
    },
    {
     "data": {
      "image/png": "[encoded data removed]",
      "text/plain": [
       "<matplotlib.figure.Figure at 0x7f23877ef908>"
      ]
     },
     "metadata": {},
     "output_type": "display_data"
    }
   ],
   "source": [
    "plt.imshow(imgs[27])"
   ]
  },
  {
   "cell_type": "code",
   "execution_count": null,
   "metadata": {},
   "outputs": [],
   "source": []
  }
 ],
 "metadata": {
  "kernelspec": {
   "display_name": "Python 3",
   "language": "python",
   "name": "python3"
  },
  "language_info": {
   "codemirror_mode": {
    "name": "ipython",
    "version": 3
   },
   "file_extension": ".py",
   "mimetype": "text/x-python",
   "name": "python",
   "nbconvert_exporter": "python",
   "pygments_lexer": "ipython3",
   "version": "3.5.2"
  }
 },
 "nbformat": 4,
 "nbformat_minor": 2
}
