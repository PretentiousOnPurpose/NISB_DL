{
 "cells": [
  {
   "cell_type": "code",
   "execution_count": 311,
   "metadata": {},
   "outputs": [],
   "source": [
    "import numpy as np\n",
    "import matplotlib.pyplot as plt\n",
    "import pandas as pd\n",
    "import tensorflow as tf\n",
    "\n",
    "%matplotlib inline"
   ]
  },
  {
   "cell_type": "code",
   "execution_count": 312,
   "metadata": {},
   "outputs": [],
   "source": [
    "from tensorflow.examples.tutorials.mnist import input_data"
   ]
  },
  {
   "cell_type": "code",
   "execution_count": 313,
   "metadata": {},
   "outputs": [
    {
     "name": "stdout",
     "output_type": "stream",
     "text": [
      "Extracting data/train-images-idx3-ubyte.gz\n",
      "Extracting data/train-labels-idx1-ubyte.gz\n",
      "Extracting data/t10k-images-idx3-ubyte.gz\n",
      "Extracting data/t10k-labels-idx1-ubyte.gz\n"
     ]
    }
   ],
   "source": [
    "mnist = input_data.read_data_sets(\"data/\" ,one_hot=True)"
   ]
  },
  {
   "cell_type": "code",
   "execution_count": 314,
   "metadata": {},
   "outputs": [],
   "source": [
    "def random_var(shape):\n",
    "    return tf.Variable(tf.truncated_normal(shape))"
   ]
  },
  {
   "cell_type": "code",
   "execution_count": 315,
   "metadata": {},
   "outputs": [],
   "source": [
    "conv_strides = [1, 1, 1, 1]\n",
    "pool_2by2 = [1, 2, 2, 1]\n",
    "pool_1by1 = [1 , 1 , 1, 1]"
   ]
  },
  {
   "cell_type": "code",
   "execution_count": 316,
   "metadata": {},
   "outputs": [],
   "source": [
    "def conv2d(x , shape):\n",
    "    w = random_var(shape)\n",
    "    b = random_var([shape[3]])\n",
    "    return tf.nn.relu(tf.nn.conv2d(input=x , filter=w , strides=conv_strides , padding='SAME') + b)"
   ]
  },
  {
   "cell_type": "code",
   "execution_count": 317,
   "metadata": {},
   "outputs": [],
   "source": [
    "def full_conn(x , num):\n",
    "    input_size = int(x.get_shape()[1])\n",
    "    w = random_var((input_size, num))\n",
    "    b = random_var((1, num))\n",
    "    return tf.matmul(x , w) + b"
   ]
  },
  {
   "cell_type": "code",
   "execution_count": 318,
   "metadata": {},
   "outputs": [],
   "source": [
    "X = tf.placeholder(tf.float32 , shape=[None, 784])\n",
    "Y = tf.placeholder(tf.float32 , shape=[None , 10])"
   ]
  },
  {
   "cell_type": "code",
   "execution_count": 319,
   "metadata": {},
   "outputs": [],
   "source": [
    "x_img = tf.reshape(X , [-1 , 28 , 28 , 1])"
   ]
  },
  {
   "cell_type": "code",
   "execution_count": 264,
   "metadata": {},
   "outputs": [],
   "source": [
    "cnn1 = conv2d(x_img , shape = [5, 5, 1 ,32])\n",
    "pool1 = tf.nn.max_pool(cnn1 , ksize= pool_2by2 , strides= pool_2by2 , padding = 'SAME')"
   ]
  },
  {
   "cell_type": "code",
   "execution_count": 265,
   "metadata": {},
   "outputs": [],
   "source": [
    "cnn2 = conv2d(pool1 , shape = [5, 5, 32 ,64])\n",
    "pool2 = tf.nn.max_pool(cnn2 , ksize= pool_2by2 , strides= pool_2by2 , padding = 'SAME')"
   ]
  },
  {
   "cell_type": "code",
   "execution_count": 266,
   "metadata": {},
   "outputs": [],
   "source": [
    "cnn3 = conv2d(pool2 , shape = [5, 5, 64 ,128])\n",
    "pool3 = tf.nn.max_pool(cnn3 , ksize= pool_2by2 , strides= pool_2by2 , padding = 'SAME')"
   ]
  },
  {
   "cell_type": "code",
   "execution_count": 296,
   "metadata": {},
   "outputs": [],
   "source": [
    "cnn4 = conv2d(pool3 , shape = [5, 5, 128 ,192])\n",
    "pool4 = tf.nn.max_pool(cnn4 , ksize= pool_2by2 , strides= pool_2by2 , padding = 'SAME')"
   ]
  },
  {
   "cell_type": "code",
   "execution_count": 297,
   "metadata": {},
   "outputs": [],
   "source": [
    "flat3 = tf.reshape(pool4 , [-1 , 2*2*192])\n",
    "full_conn1 = tf.nn.relu(full_conn(flat3 , 768))"
   ]
  },
  {
   "cell_type": "code",
   "execution_count": 298,
   "metadata": {},
   "outputs": [],
   "source": [
    "drop_p = tf.placeholder(tf.float32)\n",
    "full_conn1_drop = tf.nn.dropout(x = full_conn1 , keep_prob= drop_p)"
   ]
  },
  {
   "cell_type": "code",
   "execution_count": 320,
   "metadata": {},
   "outputs": [],
   "source": [
    "y_ = full_conn(full_conn1_drop , 10)"
   ]
  },
  {
   "cell_type": "code",
   "execution_count": 321,
   "metadata": {},
   "outputs": [],
   "source": [
    "cross = tf.reduce_mean(tf.nn.softmax_cross_entropy_with_logits(logits=y_ , labels=Y))"
   ]
  },
  {
   "cell_type": "code",
   "execution_count": 322,
   "metadata": {},
   "outputs": [],
   "source": [
    "opt = tf.train.AdamOptimizer(learning_rate=0.00005)\n",
    "exe = opt.minimize(cross)"
   ]
  },
  {
   "cell_type": "code",
   "execution_count": 323,
   "metadata": {},
   "outputs": [],
   "source": [
    "init = tf.global_variables_initializer()"
   ]
  },
  {
   "cell_type": "code",
   "execution_count": 274,
   "metadata": {},
   "outputs": [
    {
     "name": "stdout",
     "output_type": "stream",
     "text": [
      "Iteration: 0\n",
      "Accuracy:  0.0978\n",
      "\n",
      "\n",
      "Iteration: 500\n",
      "Accuracy:  0.5818\n",
      "\n",
      "\n",
      "Iteration: 1000\n",
      "Accuracy:  0.7458\n",
      "\n",
      "\n",
      "Iteration: 1500\n",
      "Accuracy:  0.815\n",
      "\n",
      "\n",
      "Iteration: 2000\n",
      "Accuracy:  0.846\n",
      "\n",
      "\n",
      "Iteration: 2500\n",
      "Accuracy:  0.8696\n",
      "\n",
      "\n",
      "Iteration: 3000\n",
      "Accuracy:  0.888\n",
      "\n",
      "\n",
      "Iteration: 3500\n",
      "Accuracy:  0.898\n",
      "\n",
      "\n",
      "Iteration: 4000\n",
      "Accuracy:  0.9062\n",
      "\n",
      "\n",
      "Iteration: 4500\n",
      "Accuracy:  0.9134\n",
      "\n",
      "\n",
      "Iteration: 5000\n",
      "Accuracy:  0.9218\n",
      "\n",
      "\n",
      "Iteration: 5500\n",
      "Accuracy:  0.9244\n",
      "\n",
      "\n",
      "Iteration: 6000\n",
      "Accuracy:  0.9264\n",
      "\n",
      "\n",
      "Iteration: 6500\n",
      "Accuracy:  0.9328\n",
      "\n",
      "\n",
      "Iteration: 7000\n",
      "Accuracy:  0.9378\n",
      "\n",
      "\n",
      "Iteration: 7500\n",
      "Accuracy:  0.9378\n",
      "\n",
      "\n",
      "Iteration: 8000\n",
      "Accuracy:  0.9388\n",
      "\n",
      "\n",
      "Iteration: 8500\n",
      "Accuracy:  0.941\n",
      "\n",
      "\n",
      "Iteration: 9000\n",
      "Accuracy:  0.9438\n",
      "\n",
      "\n",
      "Iteration: 9500\n",
      "Accuracy:  0.9456\n",
      "\n",
      "\n",
      "Iteration: 10000\n",
      "Accuracy:  0.9462\n",
      "\n",
      "\n",
      "Iteration: 10500\n",
      "Accuracy:  0.9454\n",
      "\n",
      "\n",
      "Iteration: 11000\n",
      "Accuracy:  0.9444\n",
      "\n",
      "\n",
      "Iteration: 11500\n",
      "Accuracy:  0.9448\n",
      "\n",
      "\n",
      "Iteration: 12000\n",
      "Accuracy:  0.9464\n",
      "\n",
      "\n",
      "Iteration: 12500\n",
      "Accuracy:  0.9482\n",
      "\n",
      "\n",
      "Iteration: 13000\n",
      "Accuracy:  0.9502\n",
      "\n",
      "\n",
      "Iteration: 13500\n",
      "Accuracy:  0.9482\n",
      "\n",
      "\n",
      "Iteration: 14000\n",
      "Accuracy:  0.952\n",
      "\n",
      "\n",
      "Iteration: 14500\n",
      "Accuracy:  0.9522\n",
      "\n",
      "\n",
      "Iteration: 15000\n",
      "Accuracy:  0.9514\n",
      "\n",
      "\n",
      "Iteration: 15500\n",
      "Accuracy:  0.9494\n",
      "\n",
      "\n",
      "Iteration: 16000\n",
      "Accuracy:  0.9508\n",
      "\n",
      "\n",
      "Iteration: 16500\n",
      "Accuracy:  0.9502\n",
      "\n",
      "\n",
      "Iteration: 17000\n",
      "Accuracy:  0.9492\n",
      "\n",
      "\n",
      "Iteration: 17500\n",
      "Accuracy:  0.9514\n",
      "\n",
      "\n",
      "Iteration: 18000\n",
      "Accuracy:  0.9492\n",
      "\n",
      "\n",
      "Iteration: 18500\n",
      "Accuracy:  0.9512\n",
      "\n",
      "\n",
      "Iteration: 19000\n",
      "Accuracy:  0.9502\n",
      "\n",
      "\n",
      "Iteration: 19500\n",
      "Accuracy:  0.9544\n",
      "\n",
      "\n"
     ]
    }
   ],
   "source": [
    "steps = 20000\n",
    "\n",
    "with tf.Session() as sess:\n",
    "    \n",
    "    sess.run(init)\n",
    "    \n",
    "    for i in range(steps):\n",
    "        \n",
    "        batch_x , batch_y = mnist.train.next_batch(50)\n",
    "        \n",
    "        sess.run(exe,feed_dict={X:batch_x,Y:batch_y,drop_p:0.6})\n",
    "        if i%500 == 0:\n",
    "            print('Iteration: {}'.format(i))\n",
    "\n",
    "            matches = tf.equal(tf.argmax(y_,1),tf.argmax(Y,1))\n",
    "\n",
    "            acc = tf.reduce_mean(tf.cast(matches,tf.float32))\n",
    "\n",
    "            print(\"Accuracy: \",sess.run(acc,feed_dict={X:mnist.validation.images,Y:mnist.validation.labels,drop_p:1.0}))\n",
    "            print('\\n')"
   ]
  },
  {
   "cell_type": "code",
   "execution_count": 334,
   "metadata": {},
   "outputs": [],
   "source": [
    "def Predict(N):\n",
    "    sess = tf.InteractiveSession()\n",
    "    z = sess.run(y_ , feed_dict={X:mnist.test.images[N].reshape((1 , 784)) ,drop_p:1.0})\n",
    "    return \"It's \" + str(np.argmax(z))"
   ]
  },
  {
   "cell_type": "code",
   "execution_count": 329,
   "metadata": {},
   "outputs": [
    {
     "data": {
      "text/plain": [
       "<matplotlib.image.AxesImage at 0x680bdbf748>"
      ]
     },
     "execution_count": 329,
     "metadata": {},
     "output_type": "execute_result"
    },
    {
     "data": {
      "image/png": "[encoded data removed]",
      "text/plain": [
       "<matplotlib.figure.Figure at 0x6818054eb8>"
      ]
     },
     "metadata": {},
     "output_type": "display_data"
    }
   ],
   "source": [
    "plt.imshow(mnist.test.images[144].reshape((28 , 28)))"
   ]
  },
  {
   "cell_type": "code",
   "execution_count": 333,
   "metadata": {},
   "outputs": [
    {
     "data": {
      "text/plain": [
       "\"It's 7\""
      ]
     },
     "execution_count": 333,
     "metadata": {},
     "output_type": "execute_result"
    }
   ],
   "source": [
    "Predict(144)"
   ]
  },
  {
   "cell_type": "code",
   "execution_count": null,
   "metadata": {},
   "outputs": [],
   "source": []
  }
 ],
 "metadata": {
  "kernelspec": {
   "display_name": "Python 3",
   "language": "python",
   "name": "python3"
  },
  "language_info": {
   "codemirror_mode": {
    "name": "ipython",
    "version": 3
   },
   "file_extension": ".py",
   "mimetype": "text/x-python",
   "name": "python",
   "nbconvert_exporter": "python",
   "pygments_lexer": "ipython3",
   "version": "3.6.1"
  }
 },
 "nbformat": 4,
 "nbformat_minor": 2
}
