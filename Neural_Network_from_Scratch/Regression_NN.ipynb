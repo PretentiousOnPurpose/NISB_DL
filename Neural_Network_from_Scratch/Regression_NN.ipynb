{
 "cells": [
  {
   "cell_type": "markdown",
   "metadata": {},
   "source": [
    "# Neural Network Architecture"
   ]
  },
  {
   "cell_type": "markdown",
   "metadata": {},
   "source": [
    "<img src=\"nn.png\">"
   ]
  },
  {
   "cell_type": "code",
   "execution_count": 2,
   "metadata": {},
   "outputs": [],
   "source": [
    "import numpy as np\n",
    "import matplotlib.pyplot as plt"
   ]
  },
  {
   "cell_type": "code",
   "execution_count": 3,
   "metadata": {},
   "outputs": [],
   "source": [
    "X = np.linspace(1, 1000, 1000)"
   ]
  },
  {
   "cell_type": "code",
   "execution_count": 4,
   "metadata": {},
   "outputs": [],
   "source": [
    "y = np.sin(X) #We will try to Approximate the Sine function with a Simple Neural Network"
   ]
  },
  {
   "cell_type": "code",
   "execution_count": 5,
   "metadata": {},
   "outputs": [],
   "source": [
    "from sklearn.model_selection import train_test_split\n",
    "xtr , xts , ytr , yts = train_test_split(X , y , test_size=0.01 , random_state = 0)"
   ]
  },
  {
   "cell_type": "code",
   "execution_count": 8,
   "metadata": {},
   "outputs": [],
   "source": [
    "from sklearn.preprocessing import MinMaxScaler\n",
    "x_ = MinMaxScaler()\n",
    "xtr = x_.fit_transform(xtr.reshape(-1, 1))\n",
    "y_ = MinMaxScaler()\n",
    "ytr = y_.fit_transform(ytr.reshape(-1, 1))"
   ]
  },
  {
   "cell_type": "code",
   "execution_count": 136,
   "metadata": {},
   "outputs": [],
   "source": [
    "def optimize(x , y, epochs, rate):\n",
    "    w1 = np.random.random(3) #Because we have a single hidden layer wih three neurons\n",
    "    w2 = np.random.random((3 ,1))\n",
    "    for i in range(epochs):\n",
    "        z1 = np.sum(x*w1 , axis = 1 ,keepdims=True)\n",
    "        a1 = sigmoid(z1)\n",
    "        print(a1.shape)\n",
    "        z2 = np.sum(a1*w2.T ,axis =1, keepdims=True)\n",
    "        a2 = sigmoid(z2)\n",
    "        err = np.sum((y - a2))/len(y)\n",
    "        \n",
    "        dw1 = 0 #Yet to Derive\n",
    "        dw2 = 0 #Yet to Derive\n",
    "        \n",
    "        w2 = w2 - rate*dw2\n",
    "        w1 = w1 - rate*dw1\n",
    "        \n",
    "        if i%200:\n",
    "            print(\"Iter: \", i ,\" | \", \" Loss: \", 0.5*(err*2))\n",
    "    \n",
    "    return w1 , w2"
   ]
  },
  {
   "cell_type": "code",
   "execution_count": 137,
   "metadata": {},
   "outputs": [],
   "source": [
    "def sigmoid(x):\n",
    "    return 1/(1 + np.exp(-x))"
   ]
  },
  {
   "cell_type": "code",
   "execution_count": null,
   "metadata": {},
   "outputs": [],
   "source": [
    "w1 , w2 = optimize(xtr , ytr , epochs=1, rate=0.05 )"
   ]
  },
  {
   "cell_type": "code",
   "execution_count": null,
   "metadata": {},
   "outputs": [],
   "source": []
  },
  {
   "cell_type": "code",
   "execution_count": null,
   "metadata": {},
   "outputs": [],
   "source": []
  },
  {
   "cell_type": "code",
   "execution_count": null,
   "metadata": {},
   "outputs": [],
   "source": []
  },
  {
   "cell_type": "code",
   "execution_count": null,
   "metadata": {},
   "outputs": [],
   "source": []
  }
 ],
 "metadata": {
  "kernelspec": {
   "display_name": "Python 3",
   "language": "python",
   "name": "python3"
  },
  "language_info": {
   "codemirror_mode": {
    "name": "ipython",
    "version": 3
   },
   "file_extension": ".py",
   "mimetype": "text/x-python",
   "name": "python",
   "nbconvert_exporter": "python",
   "pygments_lexer": "ipython3",
   "version": "3.6.1"
  }
 },
 "nbformat": 4,
 "nbformat_minor": 2
}
